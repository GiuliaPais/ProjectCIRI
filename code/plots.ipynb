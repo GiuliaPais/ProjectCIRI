{
 "cells": [
  {
   "cell_type": "code",
   "execution_count": 1,
   "metadata": {},
   "outputs": [],
   "source": [
    "import os\n",
    "import pandas as pd\n",
    "import json\n",
    "import plotly.express as px"
   ]
  },
  {
   "cell_type": "code",
   "execution_count": 2,
   "metadata": {},
   "outputs": [],
   "source": [
    "cp_folder = os.path.abspath('../checkpoints')\n",
    "out_folder = os.path.abspath('../out')"
   ]
  },
  {
   "cell_type": "code",
   "execution_count": null,
   "metadata": {},
   "outputs": [],
   "source": [
    "hpt_data = []\n",
    "for i in range(5):\n",
    "    for j in range(3):\n",
    "        data_file = os.path.join(cp_folder, 'HPT_resnet_50',\n",
    "                                 f'hpt_resnet50_hpt_outer_{i}_inner_{j}_exp_summary.csv')\n",
    "        df = pd.read_csv(data_file)\n",
    "        df['outer_fold'] = i\n",
    "        df['inner_fold'] = j\n",
    "        hpt_data.append(df)\n",
    "\n",
    "hpt_data = pd.concat(hpt_data)\n",
    "hpt_data = hpt_data.loc[:, ~hpt_data.columns.str.startswith('summary')]\n",
    "hpt_data = hpt_data.drop(columns=['timestamp', 'checkpoint_dir_name', 'should_checkpoint', \n",
    "                                  'done', 'trial_id', 'date', 'pid', 'hostname', 'node_ip',\n",
    "                                  'time_since_restore', 'iterations_since_restore', 'logdir',\n",
    "                                'config/train_loop_config/train_test_idx', 'training_iteration',\n",
    "                                'time_this_iter_s'])\n",
    "hpt_data = hpt_data.rename(columns={'config/train_loop_config/epochs': 'epochs',\n",
    "                                    'config/train_loop_config/batch_size': 'batch_size',\n",
    "                                    'config/train_loop_config/lr': 'lr'})"
   ]
  },
  {
   "cell_type": "code",
   "execution_count": null,
   "metadata": {},
   "outputs": [],
   "source": [
    "hpt_data"
   ]
  },
  {
   "cell_type": "code",
   "execution_count": null,
   "metadata": {},
   "outputs": [],
   "source": [
    "hpt_data.to_excel(os.path.join(cp_folder, 'HPT_resnet_50', 'hpt_resnet50_datails_per_fold.xlsx'), index=False)"
   ]
  },
  {
   "cell_type": "code",
   "execution_count": null,
   "metadata": {},
   "outputs": [],
   "source": [
    "hpt_data = []\n",
    "for i in range(5):\n",
    "    for j in range(3):\n",
    "        data_file = os.path.join(cp_folder, 'HPT_wide_resnet_50',\n",
    "                                 f'hpt_wide_resnet50_hpt_outer_{i}_inner_{j}_exp_summary.csv')\n",
    "        df = pd.read_csv(data_file)\n",
    "        df['outer_fold'] = i\n",
    "        df['inner_fold'] = j\n",
    "        hpt_data.append(df)\n",
    "\n",
    "hpt_data = pd.concat(hpt_data)\n",
    "hpt_data = hpt_data.loc[:, ~hpt_data.columns.str.startswith('summary')]\n",
    "hpt_data = hpt_data.drop(columns=['timestamp', 'checkpoint_dir_name', 'should_checkpoint', \n",
    "                                  'done', 'trial_id', 'date', 'pid', 'hostname', 'node_ip',\n",
    "                                  'time_since_restore', 'iterations_since_restore', 'logdir',\n",
    "                                'config/train_loop_config/train_test_idx', 'training_iteration',\n",
    "                                'time_this_iter_s'])\n",
    "hpt_data = hpt_data.rename(columns={'config/train_loop_config/epochs': 'epochs',\n",
    "                                    'config/train_loop_config/batch_size': 'batch_size',\n",
    "                                    'config/train_loop_config/lr': 'lr'})"
   ]
  },
  {
   "cell_type": "code",
   "execution_count": null,
   "metadata": {},
   "outputs": [],
   "source": [
    "hpt_data.to_excel(os.path.join(cp_folder, 'HPT_wide_resnet_50', 'hpt_wide_resnet50_datails_per_fold.xlsx'), index=False)"
   ]
  },
  {
   "cell_type": "code",
   "execution_count": 3,
   "metadata": {},
   "outputs": [],
   "source": [
    "cv_data_resnet50 = []\n",
    "for i in range(5):\n",
    "    data_file = os.path.join(cp_folder, 'CV_resnet50', f'resnet50_cv_outer_{i}_train_summary.csv')\n",
    "    df = pd.read_csv(data_file)\n",
    "    df['outer_fold'] = i\n",
    "    cv_data_resnet50.append(df)\n",
    "    \n",
    "cv_data_resnet50 = pd.concat(cv_data_resnet50)\n",
    "cv_data_resnet50['epoch'] = cv_data_resnet50['epoch'].astype('int').astype('category')\n",
    "cv_data_resnet50 = cv_data_resnet50.melt(id_vars=['epoch', 'outer_fold'], var_name='metric', value_name='value')\n",
    "cv_data_resnet50[['phase', 'metric']] = cv_data_resnet50['metric'].str.split('_', expand=True)"
   ]
  },
  {
   "cell_type": "code",
   "execution_count": 4,
   "metadata": {},
   "outputs": [
    {
     "data": {
      "application/vnd.plotly.v1+json": {
       "config": {
        "plotlyServerURL": "https://plot.ly"
       },
       "data": [
        {
         "hovertemplate": "Phase=train<br>Metric=loss<br>Fold=0<br>Epoch=%{x}<br>Value=%{y}<extra></extra>",
         "legendgroup": "train",
         "line": {
          "color": "#1F77B4",
          "dash": "solid"
         },
         "marker": {
          "symbol": "circle"
         },
         "mode": "lines",
         "name": "Training",
         "orientation": "v",
         "showlegend": true,
         "type": "scatter",
         "x": [
          1,
          2,
          3,
          4,
          5,
          6,
          7,
          8,
          9,
          10,
          11,
          12,
          13,
          14,
          15,
          16,
          17,
          18,
          19,
          20
         ],
         "xaxis": "x6",
         "y": [
          2.177583930500322,
          1.8521691604310095,
          1.7322532801929107,
          1.6327135824285868,
          1.5543338408897882,
          1.5460843580505776,
          1.4228200662967772,
          1.339322833919842,
          1.2615216859551364,
          1.1847170577492825,
          1.1163228573989237,
          1.0335729561770872,
          1.0245308895839804,
          0.8341645290487233,
          0.7180802798350387,
          0.6550638200436716,
          0.4940378344138199,
          0.3720511859685083,
          0.3172777197215446,
          0.2790581957124594
         ],
         "yaxis": "y6"
        },
        {
         "hovertemplate": "Phase=train<br>Metric=loss<br>Fold=1<br>Epoch=%{x}<br>Value=%{y}<extra></extra>",
         "legendgroup": "train",
         "line": {
          "color": "#1F77B4",
          "dash": "solid"
         },
         "marker": {
          "symbol": "circle"
         },
         "mode": "lines",
         "name": "Training",
         "orientation": "v",
         "showlegend": false,
         "type": "scatter",
         "x": [
          1,
          2,
          3,
          4,
          5,
          6,
          7,
          8,
          9,
          10,
          11,
          12,
          13,
          14,
          15,
          16,
          17,
          18,
          19,
          20
         ],
         "xaxis": "x7",
         "y": [
          2.179056788203724,
          1.879221006881359,
          1.726364984464804,
          1.6443260333862812,
          1.5681167480557463,
          1.5204367954469598,
          1.4165817992235734,
          1.328594381032988,
          1.347578429106462,
          1.2378829444365644,
          1.1403778765684742,
          1.0561631951617243,
          0.972678940161518,
          0.8672771301380423,
          0.765927197727254,
          0.6591529431335158,
          0.5524095084481065,
          0.4693965730675035,
          0.3768902251688745,
          0.3056565142821434
         ],
         "yaxis": "y7"
        },
        {
         "hovertemplate": "Phase=train<br>Metric=loss<br>Fold=2<br>Epoch=%{x}<br>Value=%{y}<extra></extra>",
         "legendgroup": "train",
         "line": {
          "color": "#1F77B4",
          "dash": "solid"
         },
         "marker": {
          "symbol": "circle"
         },
         "mode": "lines",
         "name": "Training",
         "orientation": "v",
         "showlegend": false,
         "type": "scatter",
         "x": [
          1,
          2,
          3,
          4,
          5,
          6,
          7,
          8,
          9,
          10,
          11,
          12,
          13,
          14,
          15,
          16,
          17,
          18,
          19,
          20
         ],
         "xaxis": "x8",
         "y": [
          2.118028721144033,
          1.855253776442569,
          1.7185377528105068,
          1.6169792615694063,
          1.542597508707712,
          1.466089700543603,
          1.4295416171368571,
          1.3289241957110027,
          1.2847393968968692,
          1.1829219298109264,
          1.1350852666899216,
          1.039819296808338,
          0.939798161337938,
          0.8357422943923164,
          0.7259174554648985,
          0.6275084828617565,
          0.5133485743571754,
          0.4111979872582362,
          0.3434670717266707,
          0.2834924823075433
         ],
         "yaxis": "y8"
        },
        {
         "hovertemplate": "Phase=train<br>Metric=loss<br>Fold=3<br>Epoch=%{x}<br>Value=%{y}<extra></extra>",
         "legendgroup": "train",
         "line": {
          "color": "#1F77B4",
          "dash": "solid"
         },
         "marker": {
          "symbol": "circle"
         },
         "mode": "lines",
         "name": "Training",
         "orientation": "v",
         "showlegend": false,
         "type": "scatter",
         "x": [
          1,
          2,
          3,
          4,
          5,
          6,
          7,
          8,
          9,
          10,
          11,
          12,
          13,
          14,
          15,
          16,
          17,
          18,
          19,
          20
         ],
         "xaxis": "x9",
         "y": [
          2.1586244763726015,
          1.8729287991888104,
          1.726053093754968,
          1.638761302957503,
          1.5622882866780228,
          1.5022039902566675,
          1.4269531220692733,
          1.3502334631558668,
          1.28070961320123,
          1.2197368760837668,
          1.1421468051961094,
          1.062572560239076,
          0.9967001877551857,
          0.8836283026343564,
          0.7888090670900884,
          0.6738509146676112,
          0.5603116958640343,
          0.5118383503336447,
          0.3885107277536709,
          0.3158960069755581
         ],
         "yaxis": "y9"
        },
        {
         "hovertemplate": "Phase=train<br>Metric=loss<br>Fold=4<br>Epoch=%{x}<br>Value=%{y}<extra></extra>",
         "legendgroup": "train",
         "line": {
          "color": "#1F77B4",
          "dash": "solid"
         },
         "marker": {
          "symbol": "circle"
         },
         "mode": "lines",
         "name": "Training",
         "orientation": "v",
         "showlegend": false,
         "type": "scatter",
         "x": [
          1,
          2,
          3,
          4,
          5,
          6,
          7,
          8,
          9,
          10,
          11,
          12,
          13,
          14,
          15,
          16,
          17,
          18,
          19,
          20
         ],
         "xaxis": "x10",
         "y": [
          2.1549097537202297,
          1.845154221271756,
          1.7221943298447568,
          1.6530643527293918,
          1.5337316835441464,
          1.533038278552781,
          1.3954670712401305,
          1.3513906316899778,
          1.295152032890193,
          1.2003259991490565,
          1.1316422548801004,
          1.0147907189356529,
          0.9694229717864546,
          0.8638296707524018,
          0.7645817620809688,
          0.661203321230372,
          0.555859756034078,
          0.4283275628753278,
          0.3730580451035024,
          0.288916477184755
         ],
         "yaxis": "y10"
        },
        {
         "hovertemplate": "Phase=train<br>Metric=acc<br>Fold=0<br>Epoch=%{x}<br>Value=%{y}<extra></extra>",
         "legendgroup": "train",
         "line": {
          "color": "#1F77B4",
          "dash": "solid"
         },
         "marker": {
          "symbol": "circle"
         },
         "mode": "lines",
         "name": "Training",
         "orientation": "v",
         "showlegend": false,
         "type": "scatter",
         "x": [
          1,
          2,
          3,
          4,
          5,
          6,
          7,
          8,
          9,
          10,
          11,
          12,
          13,
          14,
          15,
          16,
          17,
          18,
          19,
          20
         ],
         "xaxis": "x",
         "y": [
          0.2707573705594333,
          0.3662881550161475,
          0.4057714345244296,
          0.4404625481821023,
          0.4653609751015731,
          0.4721325138035212,
          0.5161996041254298,
          0.5433899364517137,
          0.5665173455568289,
          0.5938118554016043,
          0.6188144598395666,
          0.6527763308677987,
          0.6504844254609855,
          0.7202833628502969,
          0.7562246067298677,
          0.7762266902802375,
          0.8318574851547036,
          0.8719658297739348,
          0.8924888009167622,
          0.9091572038754036
         ],
         "yaxis": "y"
        },
        {
         "hovertemplate": "Phase=train<br>Metric=acc<br>Fold=1<br>Epoch=%{x}<br>Value=%{y}<extra></extra>",
         "legendgroup": "train",
         "line": {
          "color": "#1F77B4",
          "dash": "solid"
         },
         "marker": {
          "symbol": "circle"
         },
         "mode": "lines",
         "name": "Training",
         "orientation": "v",
         "showlegend": false,
         "type": "scatter",
         "x": [
          1,
          2,
          3,
          4,
          5,
          6,
          7,
          8,
          9,
          10,
          11,
          12,
          13,
          14,
          15,
          16,
          17,
          18,
          19,
          20
         ],
         "xaxis": "x2",
         "y": [
          0.2617708333333333,
          0.3548958333333333,
          0.4110416666666667,
          0.4342708333333333,
          0.4582291666666667,
          0.4801041666666666,
          0.5155208333333333,
          0.5475,
          0.5377083333333333,
          0.5760416666666667,
          0.6098958333333333,
          0.6375,
          0.6663541666666667,
          0.7022916666666666,
          0.7363541666666666,
          0.7734375,
          0.8134375,
          0.835625,
          0.8702083333333334,
          0.8965625
         ],
         "yaxis": "y2"
        },
        {
         "hovertemplate": "Phase=train<br>Metric=acc<br>Fold=2<br>Epoch=%{x}<br>Value=%{y}<extra></extra>",
         "legendgroup": "train",
         "line": {
          "color": "#1F77B4",
          "dash": "solid"
         },
         "marker": {
          "symbol": "circle"
         },
         "mode": "lines",
         "name": "Training",
         "orientation": "v",
         "showlegend": false,
         "type": "scatter",
         "x": [
          1,
          2,
          3,
          4,
          5,
          6,
          7,
          8,
          9,
          10,
          11,
          12,
          13,
          14,
          15,
          16,
          17,
          18,
          19,
          20
         ],
         "xaxis": "x3",
         "y": [
          0.2878424835920408,
          0.3716012084592145,
          0.409521825190124,
          0.4474424419210334,
          0.4721325138035212,
          0.5027607042400251,
          0.5143244087925826,
          0.551619960412543,
          0.558183144077508,
          0.5961037608084175,
          0.6074591103239921,
          0.6417335139076987,
          0.6795499531201167,
          0.7126784040004167,
          0.7477862277320554,
          0.7821648088342535,
          0.81987707052818,
          0.8582143973330555,
          0.8863423273257631,
          0.9019689550994896
         ],
         "yaxis": "y3"
        },
        {
         "hovertemplate": "Phase=train<br>Metric=acc<br>Fold=3<br>Epoch=%{x}<br>Value=%{y}<extra></extra>",
         "legendgroup": "train",
         "line": {
          "color": "#1F77B4",
          "dash": "solid"
         },
         "marker": {
          "symbol": "circle"
         },
         "mode": "lines",
         "name": "Training",
         "orientation": "v",
         "showlegend": false,
         "type": "scatter",
         "x": [
          1,
          2,
          3,
          4,
          5,
          6,
          7,
          8,
          9,
          10,
          11,
          12,
          13,
          14,
          15,
          16,
          17,
          18,
          19,
          20
         ],
         "xaxis": "x4",
         "y": [
          0.2759841699645907,
          0.3598208706519475,
          0.4128306602791085,
          0.4344928139970839,
          0.4662570297854613,
          0.4912518225369714,
          0.5170797750468652,
          0.5361383045198916,
          0.5641533013955427,
          0.5842532805665487,
          0.6121641324724015,
          0.6408039991668403,
          0.6575713393043116,
          0.7007915017704645,
          0.7310976879816705,
          0.7684857321391377,
          0.8089981253905436,
          0.8221203915850864,
          0.8620079150177047,
          0.8946052905644657
         ],
         "yaxis": "y4"
        },
        {
         "hovertemplate": "Phase=train<br>Metric=acc<br>Fold=4<br>Epoch=%{x}<br>Value=%{y}<extra></extra>",
         "legendgroup": "train",
         "line": {
          "color": "#1F77B4",
          "dash": "solid"
         },
         "marker": {
          "symbol": "circle"
         },
         "mode": "lines",
         "name": "Training",
         "orientation": "v",
         "showlegend": false,
         "type": "scatter",
         "x": [
          1,
          2,
          3,
          4,
          5,
          6,
          7,
          8,
          9,
          10,
          11,
          12,
          13,
          14,
          15,
          16,
          17,
          18,
          19,
          20
         ],
         "xaxis": "x5",
         "y": [
          0.2703125,
          0.3680208333333333,
          0.4113541666666667,
          0.4392708333333333,
          0.4753125,
          0.4784375,
          0.5186458333333334,
          0.5434375,
          0.5551041666666666,
          0.5910416666666667,
          0.6202083333333334,
          0.6544791666666666,
          0.6658333333333334,
          0.7075,
          0.740625,
          0.7723958333333333,
          0.8057291666666667,
          0.8514583333333333,
          0.8692708333333333,
          0.9055208333333332
         ],
         "yaxis": "y5"
        },
        {
         "hovertemplate": "Phase=val<br>Metric=loss<br>Fold=0<br>Epoch=%{x}<br>Value=%{y}<extra></extra>",
         "legendgroup": "val",
         "line": {
          "color": "#FF7F0E",
          "dash": "solid"
         },
         "marker": {
          "symbol": "circle"
         },
         "mode": "lines",
         "name": "Validation",
         "orientation": "v",
         "showlegend": true,
         "type": "scatter",
         "x": [
          1,
          2,
          3,
          4,
          5,
          6,
          7,
          8,
          9,
          10,
          11,
          12,
          13,
          14,
          15,
          16,
          17,
          18,
          19,
          20
         ],
         "xaxis": "x6",
         "y": [
          2.0387327741635475,
          1.87432472486245,
          1.7031648492342548,
          1.6692275593155308,
          1.671816005518562,
          1.7760400270160877,
          1.61958714613789,
          1.5147129532537962,
          1.5860295052591122,
          1.5237171842079411,
          1.5957824289798737,
          2.5989724083950647,
          1.407664451159929,
          1.3935032973164003,
          1.4592899895812337,
          1.6446607305031071,
          1.6856291847009408,
          1.744248100801518,
          1.9806983463074033,
          1.7184508172305006
         ],
         "yaxis": "y6"
        },
        {
         "hovertemplate": "Phase=val<br>Metric=loss<br>Fold=1<br>Epoch=%{x}<br>Value=%{y}<extra></extra>",
         "legendgroup": "val",
         "line": {
          "color": "#FF7F0E",
          "dash": "solid"
         },
         "marker": {
          "symbol": "circle"
         },
         "mode": "lines",
         "name": "Validation",
         "orientation": "v",
         "showlegend": false,
         "type": "scatter",
         "x": [
          1,
          2,
          3,
          4,
          5,
          6,
          7,
          8,
          9,
          10,
          11,
          12,
          13,
          14,
          15,
          16,
          17,
          18,
          19,
          20
         ],
         "xaxis": "x7",
         "y": [
          1.94595542079524,
          1.8407044034255176,
          1.7897899315545434,
          1.7106274036984694,
          1.5242887727524106,
          1.4729838857525273,
          1.5708373737962622,
          2.0075968378468563,
          1.5249956022751958,
          1.3706429639929218,
          1.4184809648676922,
          1.4676622050373178,
          1.3494484283422168,
          1.31503666113866,
          1.4872376595280672,
          1.3173786095882718,
          1.4559971231379008,
          1.585526965166393,
          1.756971700411094,
          1.8444733086385223
         ],
         "yaxis": "y7"
        },
        {
         "hovertemplate": "Phase=val<br>Metric=loss<br>Fold=2<br>Epoch=%{x}<br>Value=%{y}<extra></extra>",
         "legendgroup": "val",
         "line": {
          "color": "#FF7F0E",
          "dash": "solid"
         },
         "marker": {
          "symbol": "circle"
         },
         "mode": "lines",
         "name": "Validation",
         "orientation": "v",
         "showlegend": false,
         "type": "scatter",
         "x": [
          1,
          2,
          3,
          4,
          5,
          6,
          7,
          8,
          9,
          10,
          11,
          12,
          13,
          14,
          15,
          16,
          17,
          18,
          19,
          20
         ],
         "xaxis": "x8",
         "y": [
          2.4255807117411963,
          1.8112527116348869,
          1.8278820369588704,
          1.7026282486162687,
          1.8455754447924464,
          1.667766824756798,
          1.4531359452950328,
          1.5165459317596337,
          1.5554539937722056,
          1.5070416211689774,
          1.325507767890629,
          1.461210444030401,
          1.5011091557772536,
          1.3849614629472948,
          2.50161692588345,
          1.6037450566103584,
          1.515073505279265,
          1.7428987423742288,
          1.6742633384113248,
          1.91455334758288
         ],
         "yaxis": "y8"
        },
        {
         "hovertemplate": "Phase=val<br>Metric=loss<br>Fold=3<br>Epoch=%{x}<br>Value=%{y}<extra></extra>",
         "legendgroup": "val",
         "line": {
          "color": "#FF7F0E",
          "dash": "solid"
         },
         "marker": {
          "symbol": "circle"
         },
         "mode": "lines",
         "name": "Validation",
         "orientation": "v",
         "showlegend": false,
         "type": "scatter",
         "x": [
          1,
          2,
          3,
          4,
          5,
          6,
          7,
          8,
          9,
          10,
          11,
          12,
          13,
          14,
          15,
          16,
          17,
          18,
          19,
          20
         ],
         "xaxis": "x9",
         "y": [
          2.0038678991167167,
          1.8603680408314656,
          1.8372437718667485,
          1.8179361992760708,
          1.6460012001426596,
          1.6824418361249722,
          1.5785246189487607,
          1.5278425875462984,
          1.620274637874804,
          1.449815875997669,
          1.381554384764872,
          1.5868454465740605,
          1.3696012508712316,
          2.2618315082631613,
          1.4800492383931811,
          1.521133181099829,
          1.9685102920783193,
          1.6142134419397305,
          1.6520254364923428,
          1.844833114429524
         ],
         "yaxis": "y9"
        },
        {
         "hovertemplate": "Phase=val<br>Metric=loss<br>Fold=4<br>Epoch=%{x}<br>Value=%{y}<extra></extra>",
         "legendgroup": "val",
         "line": {
          "color": "#FF7F0E",
          "dash": "solid"
         },
         "marker": {
          "symbol": "circle"
         },
         "mode": "lines",
         "name": "Validation",
         "orientation": "v",
         "showlegend": false,
         "type": "scatter",
         "x": [
          1,
          2,
          3,
          4,
          5,
          6,
          7,
          8,
          9,
          10,
          11,
          12,
          13,
          14,
          15,
          16,
          17,
          18,
          19,
          20
         ],
         "xaxis": "x10",
         "y": [
          2.980350320276461,
          2.154155506115211,
          1.7815017825678776,
          2.1180958206716336,
          1.6293233919300532,
          1.489406536284246,
          1.4462753616665538,
          1.4089057908246392,
          1.4849702899197217,
          1.5549524225245572,
          1.2971786719403768,
          1.397333641193415,
          1.3736677748445223,
          1.363938210728137,
          1.3236650754942705,
          1.4634603346256834,
          1.381666403092248,
          1.5582393934263994,
          1.529726625665238,
          1.6545776858141548
         ],
         "yaxis": "y10"
        },
        {
         "hovertemplate": "Phase=val<br>Metric=acc<br>Fold=0<br>Epoch=%{x}<br>Value=%{y}<extra></extra>",
         "legendgroup": "val",
         "line": {
          "color": "#FF7F0E",
          "dash": "solid"
         },
         "marker": {
          "symbol": "circle"
         },
         "mode": "lines",
         "name": "Validation",
         "orientation": "v",
         "showlegend": false,
         "type": "scatter",
         "x": [
          1,
          2,
          3,
          4,
          5,
          6,
          7,
          8,
          9,
          10,
          11,
          12,
          13,
          14,
          15,
          16,
          17,
          18,
          19,
          20
         ],
         "xaxis": "x",
         "y": [
          0.2873802582257392,
          0.3665139525197834,
          0.426905456059975,
          0.4273219491878384,
          0.4464806330695544,
          0.4410662224073303,
          0.4885464389837567,
          0.5156184922948771,
          0.5343606830487297,
          0.497292794668888,
          0.5085381091211995,
          0.4568929612661391,
          0.5701790920449813,
          0.5697625989171179,
          0.5660141607663474,
          0.5618492294877134,
          0.5418575593502707,
          0.5626822157434402,
          0.5605997501041233,
          0.5914202415660141
         ],
         "yaxis": "y"
        },
        {
         "hovertemplate": "Phase=val<br>Metric=acc<br>Fold=1<br>Epoch=%{x}<br>Value=%{y}<extra></extra>",
         "legendgroup": "val",
         "line": {
          "color": "#FF7F0E",
          "dash": "solid"
         },
         "marker": {
          "symbol": "circle"
         },
         "mode": "lines",
         "name": "Validation",
         "orientation": "v",
         "showlegend": false,
         "type": "scatter",
         "x": [
          1,
          2,
          3,
          4,
          5,
          6,
          7,
          8,
          9,
          10,
          11,
          12,
          13,
          14,
          15,
          16,
          17,
          18,
          19,
          20
         ],
         "xaxis": "x2",
         "y": [
          0.32375,
          0.38375,
          0.4083333333333333,
          0.43875,
          0.48375,
          0.51625,
          0.48,
          0.52625,
          0.48625,
          0.5416666666666666,
          0.5354166666666667,
          0.5420833333333334,
          0.565,
          0.5895833333333333,
          0.5641666666666667,
          0.6075,
          0.6008333333333333,
          0.5870833333333333,
          0.56625,
          0.5725
         ],
         "yaxis": "y2"
        },
        {
         "hovertemplate": "Phase=val<br>Metric=acc<br>Fold=2<br>Epoch=%{x}<br>Value=%{y}<extra></extra>",
         "legendgroup": "val",
         "line": {
          "color": "#FF7F0E",
          "dash": "solid"
         },
         "marker": {
          "symbol": "circle"
         },
         "mode": "lines",
         "name": "Validation",
         "orientation": "v",
         "showlegend": false,
         "type": "scatter",
         "x": [
          1,
          2,
          3,
          4,
          5,
          6,
          7,
          8,
          9,
          10,
          11,
          12,
          13,
          14,
          15,
          16,
          17,
          18,
          19,
          20
         ],
         "xaxis": "x3",
         "y": [
          0.334027488546439,
          0.3631820074968763,
          0.3769262807163682,
          0.4064972927946689,
          0.4423157017909204,
          0.4319033735943356,
          0.5085381091211995,
          0.4902124114952103,
          0.4902124114952103,
          0.4989587671803415,
          0.5497709287796751,
          0.5160349854227405,
          0.5268638067471887,
          0.5697625989171179,
          0.4485630987088713,
          0.5351936693044564,
          0.573094543940025,
          0.563515201999167,
          0.5610162432319866,
          0.5556018325697626
         ],
         "yaxis": "y3"
        },
        {
         "hovertemplate": "Phase=val<br>Metric=acc<br>Fold=3<br>Epoch=%{x}<br>Value=%{y}<extra></extra>",
         "legendgroup": "val",
         "line": {
          "color": "#FF7F0E",
          "dash": "solid"
         },
         "marker": {
          "symbol": "circle"
         },
         "mode": "lines",
         "name": "Validation",
         "orientation": "v",
         "showlegend": false,
         "type": "scatter",
         "x": [
          1,
          2,
          3,
          4,
          5,
          6,
          7,
          8,
          9,
          10,
          11,
          12,
          13,
          14,
          15,
          16,
          17,
          18,
          19,
          20
         ],
         "xaxis": "x4",
         "y": [
          0.3465387823185988,
          0.3753127606338615,
          0.4070058381984987,
          0.3878231859883236,
          0.4624687239366138,
          0.4437030859049207,
          0.4720600500417014,
          0.482068390325271,
          0.5070892410341952,
          0.530442035029191,
          0.5371142618849041,
          0.5250208507089241,
          0.5629691409507923,
          0.5221017514595496,
          0.5625521267723103,
          0.5617180984153461,
          0.5037531276063386,
          0.585487906588824,
          0.591743119266055,
          0.5754795663052544
         ],
         "yaxis": "y4"
        },
        {
         "hovertemplate": "Phase=val<br>Metric=acc<br>Fold=4<br>Epoch=%{x}<br>Value=%{y}<extra></extra>",
         "legendgroup": "val",
         "line": {
          "color": "#FF7F0E",
          "dash": "solid"
         },
         "marker": {
          "symbol": "circle"
         },
         "mode": "lines",
         "name": "Validation",
         "orientation": "v",
         "showlegend": false,
         "type": "scatter",
         "x": [
          1,
          2,
          3,
          4,
          5,
          6,
          7,
          8,
          9,
          10,
          11,
          12,
          13,
          14,
          15,
          16,
          17,
          18,
          19,
          20
         ],
         "xaxis": "x5",
         "y": [
          0.32,
          0.345,
          0.4141666666666667,
          0.4420833333333333,
          0.4479166666666667,
          0.4858333333333333,
          0.5170833333333333,
          0.5220833333333333,
          0.5158333333333334,
          0.5120833333333333,
          0.5691666666666667,
          0.5391666666666667,
          0.5708333333333333,
          0.5641666666666667,
          0.5820833333333333,
          0.57625,
          0.6,
          0.5983333333333334,
          0.5958333333333333,
          0.6079166666666667
         ],
         "yaxis": "y5"
        }
       ],
       "layout": {
        "annotations": [
         {
          "showarrow": false,
          "text": "Fold=0",
          "x": 0.09000000000000001,
          "xanchor": "center",
          "xref": "paper",
          "y": 1,
          "yanchor": "bottom",
          "yref": "paper"
         },
         {
          "showarrow": false,
          "text": "Fold=1",
          "x": 0.29000000000000004,
          "xanchor": "center",
          "xref": "paper",
          "y": 1,
          "yanchor": "bottom",
          "yref": "paper"
         },
         {
          "showarrow": false,
          "text": "Fold=2",
          "x": 0.49000000000000005,
          "xanchor": "center",
          "xref": "paper",
          "y": 1,
          "yanchor": "bottom",
          "yref": "paper"
         },
         {
          "showarrow": false,
          "text": "Fold=3",
          "x": 0.6900000000000002,
          "xanchor": "center",
          "xref": "paper",
          "y": 1,
          "yanchor": "bottom",
          "yref": "paper"
         },
         {
          "showarrow": false,
          "text": "Fold=4",
          "x": 0.8900000000000001,
          "xanchor": "center",
          "xref": "paper",
          "y": 1,
          "yanchor": "bottom",
          "yref": "paper"
         },
         {
          "showarrow": false,
          "text": "Metric=acc",
          "textangle": 90,
          "x": 0.9800000000000001,
          "xanchor": "left",
          "xref": "paper",
          "y": 0.2425,
          "yanchor": "middle",
          "yref": "paper"
         },
         {
          "showarrow": false,
          "text": "Metric=loss",
          "textangle": 90,
          "x": 0.9800000000000001,
          "xanchor": "left",
          "xref": "paper",
          "y": 0.7575000000000001,
          "yanchor": "middle",
          "yref": "paper"
         },
         {
          "font": {
           "size": 18
          },
          "showarrow": false,
          "text": "Epoch",
          "x": 0.5,
          "xref": "paper",
          "y": -0.1,
          "yref": "paper"
         }
        ],
        "font": {
         "family": "Barlow",
         "size": 16
        },
        "height": 800,
        "legend": {
         "orientation": "h",
         "title": {
          "text": "Phase"
         },
         "tracegroupgap": 0,
         "x": 1,
         "xanchor": "right",
         "y": -0.2,
         "yanchor": "bottom"
        },
        "margin": {
         "t": 60
        },
        "template": {
         "data": {
          "pie": [
           {
            "automargin": true,
            "type": "pie"
           }
          ]
         },
         "layout": {
          "xaxis": {
           "showgrid": true,
           "title": {
            "standoff": 15
           }
          },
          "yaxis": {
           "showgrid": true,
           "title": {
            "standoff": 15
           }
          }
         }
        },
        "title": {
         "font": {
          "size": 30
         },
         "text": "Cross Validation Summary - ResNet50",
         "x": 0.5
        },
        "width": 1200,
        "xaxis": {
         "anchor": "y",
         "domain": [
          0,
          0.18000000000000002
         ],
         "linecolor": "black",
         "mirror": true,
         "showline": true,
         "title": {
          "text": ""
         }
        },
        "xaxis10": {
         "anchor": "y10",
         "domain": [
          0.8,
          0.9800000000000001
         ],
         "linecolor": "black",
         "matches": "x",
         "mirror": true,
         "showline": true,
         "showticklabels": false,
         "title": {
          "text": ""
         }
        },
        "xaxis2": {
         "anchor": "y2",
         "domain": [
          0.2,
          0.38
         ],
         "linecolor": "black",
         "matches": "x",
         "mirror": true,
         "showline": true,
         "title": {
          "text": ""
         }
        },
        "xaxis3": {
         "anchor": "y3",
         "domain": [
          0.4,
          0.5800000000000001
         ],
         "linecolor": "black",
         "matches": "x",
         "mirror": true,
         "showline": true,
         "title": {
          "text": ""
         }
        },
        "xaxis4": {
         "anchor": "y4",
         "domain": [
          0.6000000000000001,
          0.7800000000000001
         ],
         "linecolor": "black",
         "matches": "x",
         "mirror": true,
         "showline": true,
         "title": {
          "text": ""
         }
        },
        "xaxis5": {
         "anchor": "y5",
         "domain": [
          0.8,
          0.9800000000000001
         ],
         "linecolor": "black",
         "matches": "x",
         "mirror": true,
         "showline": true,
         "title": {
          "text": ""
         }
        },
        "xaxis6": {
         "anchor": "y6",
         "domain": [
          0,
          0.18000000000000002
         ],
         "linecolor": "black",
         "matches": "x",
         "mirror": true,
         "showline": true,
         "showticklabels": false,
         "title": {
          "text": ""
         }
        },
        "xaxis7": {
         "anchor": "y7",
         "domain": [
          0.2,
          0.38
         ],
         "linecolor": "black",
         "matches": "x",
         "mirror": true,
         "showline": true,
         "showticklabels": false,
         "title": {
          "text": ""
         }
        },
        "xaxis8": {
         "anchor": "y8",
         "domain": [
          0.4,
          0.5800000000000001
         ],
         "linecolor": "black",
         "matches": "x",
         "mirror": true,
         "showline": true,
         "showticklabels": false,
         "title": {
          "text": ""
         }
        },
        "xaxis9": {
         "anchor": "y9",
         "domain": [
          0.6000000000000001,
          0.7800000000000001
         ],
         "linecolor": "black",
         "matches": "x",
         "mirror": true,
         "showline": true,
         "showticklabels": false,
         "title": {
          "text": ""
         }
        },
        "yaxis": {
         "anchor": "x",
         "domain": [
          0,
          0.485
         ],
         "linecolor": "black",
         "mirror": true,
         "range": [
          0,
          1
         ],
         "showline": true,
         "tickformat": ".1%",
         "title": {
          "text": ""
         }
        },
        "yaxis10": {
         "anchor": "x10",
         "domain": [
          0.515,
          1
         ],
         "linecolor": "black",
         "mirror": true,
         "showline": true,
         "showticklabels": false,
         "title": {
          "text": ""
         }
        },
        "yaxis2": {
         "anchor": "x2",
         "domain": [
          0,
          0.485
         ],
         "linecolor": "black",
         "mirror": true,
         "range": [
          0,
          1
         ],
         "showline": true,
         "showticklabels": false,
         "tickformat": ".1%",
         "title": {
          "text": ""
         }
        },
        "yaxis3": {
         "anchor": "x3",
         "domain": [
          0,
          0.485
         ],
         "linecolor": "black",
         "mirror": true,
         "range": [
          0,
          1
         ],
         "showline": true,
         "showticklabels": false,
         "tickformat": ".1%",
         "title": {
          "text": ""
         }
        },
        "yaxis4": {
         "anchor": "x4",
         "domain": [
          0,
          0.485
         ],
         "linecolor": "black",
         "mirror": true,
         "range": [
          0,
          1
         ],
         "showline": true,
         "showticklabels": false,
         "tickformat": ".1%",
         "title": {
          "text": ""
         }
        },
        "yaxis5": {
         "anchor": "x5",
         "domain": [
          0,
          0.485
         ],
         "linecolor": "black",
         "mirror": true,
         "range": [
          0,
          1
         ],
         "showline": true,
         "showticklabels": false,
         "tickformat": ".1%",
         "title": {
          "text": ""
         }
        },
        "yaxis6": {
         "anchor": "x6",
         "domain": [
          0.515,
          1
         ],
         "linecolor": "black",
         "mirror": true,
         "showline": true,
         "title": {
          "text": ""
         }
        },
        "yaxis7": {
         "anchor": "x7",
         "domain": [
          0.515,
          1
         ],
         "linecolor": "black",
         "mirror": true,
         "showline": true,
         "showticklabels": false,
         "title": {
          "text": ""
         }
        },
        "yaxis8": {
         "anchor": "x8",
         "domain": [
          0.515,
          1
         ],
         "linecolor": "black",
         "mirror": true,
         "showline": true,
         "showticklabels": false,
         "title": {
          "text": ""
         }
        },
        "yaxis9": {
         "anchor": "x9",
         "domain": [
          0.515,
          1
         ],
         "linecolor": "black",
         "mirror": true,
         "showline": true,
         "showticklabels": false,
         "title": {
          "text": ""
         }
        }
       }
      }
     },
     "metadata": {},
     "output_type": "display_data"
    }
   ],
   "source": [
    "cv_summary_resnet50 = px.line(cv_data_resnet50, x='epoch', \n",
    "                        y='value', color='phase', \n",
    "                        facet_row='metric', \n",
    "                        facet_col='outer_fold',\n",
    "                        labels={'value': 'Value', 'epoch': 'Epoch', \n",
    "                                'phase': 'Phase', 'metric': 'Metric',\n",
    "                                'outer_fold': 'Fold'},\n",
    "                        template='gridon')\n",
    "# Renaming traces\n",
    "new_names = {'train': 'Training', 'val': 'Validation'}\n",
    "for trace in cv_summary_resnet50.data:\n",
    "    trace.update(name=new_names[trace.name])\n",
    "cv_summary_resnet50.for_each_xaxis(lambda axis: axis.update(showline=True, linecolor='black', mirror=True, title=''))\n",
    "cv_summary_resnet50.add_annotation(\n",
    "    x=0.5,\n",
    "    y=-0.1,\n",
    "    xref='paper',\n",
    "    yref='paper',\n",
    "    text='Epoch',\n",
    "    showarrow=False,\n",
    "    font=dict(size=18)\n",
    ")\n",
    "cv_summary_resnet50.for_each_yaxis(lambda axis: axis.update(showline=True, linecolor='black', mirror=True, title=''))\n",
    "cv_summary_resnet50.for_each_yaxis(lambda axis: axis.update(range=[0.0, 1.0], tickformat='.1%'), row=1)\n",
    "cv_summary_resnet50.update_layout(\n",
    "    width=1200,\n",
    "    height=800,\n",
    "    legend=dict(\n",
    "        orientation='h',\n",
    "        yanchor='bottom',\n",
    "        y=-0.2,\n",
    "        xanchor='right',\n",
    "        x=1\n",
    "    ),\n",
    "    font=dict(\n",
    "        size=16,\n",
    "        family='Barlow'\n",
    "    ),\n",
    "    title=dict(\n",
    "        text='Cross Validation Summary - ResNet50',\n",
    "        x=0.5,\n",
    "        font=dict(size=30)\n",
    "    )\n",
    ")\n",
    "cv_summary_resnet50.update_yaxes(\n",
    "    matches=None\n",
    ")\n"
   ]
  },
  {
   "cell_type": "code",
   "execution_count": null,
   "metadata": {},
   "outputs": [],
   "source": [
    "cv_summary_resnet50.write_image(os.path.join(out_folder, 'cv_resnet50_summary.png'), scale=2)"
   ]
  },
  {
   "cell_type": "code",
   "execution_count": 4,
   "metadata": {},
   "outputs": [],
   "source": [
    "cv_data_wresnet50 = []\n",
    "for i in range(5):\n",
    "    data_file = os.path.join(cp_folder, 'CV_wide_resnet50_2', f'wide_resnet50_cv_outer_{i}_train_summary.csv')\n",
    "    df = pd.read_csv(data_file)\n",
    "    df['outer_fold'] = i\n",
    "    cv_data_wresnet50.append(df)\n",
    "    \n",
    "cv_data_wresnet50 = pd.concat(cv_data_wresnet50)\n",
    "cv_data_wresnet50['epoch'] = cv_data_wresnet50['epoch'].astype('int').astype('category')\n",
    "cv_data_wresnet50 = cv_data_wresnet50.melt(id_vars=['epoch', 'outer_fold'], var_name='metric', value_name='value')\n",
    "cv_data_wresnet50[['phase', 'metric']] = cv_data_wresnet50['metric'].str.split('_', expand=True)"
   ]
  },
  {
   "cell_type": "code",
   "execution_count": 6,
   "metadata": {},
   "outputs": [
    {
     "data": {
      "application/vnd.plotly.v1+json": {
       "config": {
        "plotlyServerURL": "https://plot.ly"
       },
       "data": [
        {
         "hovertemplate": "Phase=train<br>Metric=loss<br>Fold=0<br>Epoch=%{x}<br>Value=%{y}<extra></extra>",
         "legendgroup": "train",
         "line": {
          "color": "#1F77B4",
          "dash": "solid"
         },
         "marker": {
          "symbol": "circle"
         },
         "mode": "lines",
         "name": "Training",
         "orientation": "v",
         "showlegend": true,
         "type": "scatter",
         "x": [
          1,
          2,
          3,
          4,
          5
         ],
         "xaxis": "x6",
         "y": [
          2.0450771841099886,
          1.7797655286979042,
          1.5883109343804394,
          1.4436986638462028,
          1.3065112312370757
         ],
         "yaxis": "y6"
        },
        {
         "hovertemplate": "Phase=train<br>Metric=loss<br>Fold=1<br>Epoch=%{x}<br>Value=%{y}<extra></extra>",
         "legendgroup": "train",
         "line": {
          "color": "#1F77B4",
          "dash": "solid"
         },
         "marker": {
          "symbol": "circle"
         },
         "mode": "lines",
         "name": "Training",
         "orientation": "v",
         "showlegend": false,
         "type": "scatter",
         "x": [
          1,
          2,
          3,
          4,
          5
         ],
         "xaxis": "x7",
         "y": [
          2.0764845213620764,
          1.770269795905712,
          1.6109746235153604,
          1.4604320466716425,
          1.3202958275313392
         ],
         "yaxis": "y7"
        },
        {
         "hovertemplate": "Phase=train<br>Metric=loss<br>Fold=2<br>Epoch=%{x}<br>Value=%{y}<extra></extra>",
         "legendgroup": "train",
         "line": {
          "color": "#1F77B4",
          "dash": "solid"
         },
         "marker": {
          "symbol": "circle"
         },
         "mode": "lines",
         "name": "Training",
         "orientation": "v",
         "showlegend": false,
         "type": "scatter",
         "x": [
          1,
          2,
          3,
          4,
          5
         ],
         "xaxis": "x8",
         "y": [
          2.0708004430282947,
          1.767370842619988,
          1.5784581929346255,
          1.4467080354294508,
          1.320660111714043
         ],
         "yaxis": "y8"
        },
        {
         "hovertemplate": "Phase=train<br>Metric=loss<br>Fold=3<br>Epoch=%{x}<br>Value=%{y}<extra></extra>",
         "legendgroup": "train",
         "line": {
          "color": "#1F77B4",
          "dash": "solid"
         },
         "marker": {
          "symbol": "circle"
         },
         "mode": "lines",
         "name": "Training",
         "orientation": "v",
         "showlegend": false,
         "type": "scatter",
         "x": [
          1,
          2,
          3
         ],
         "xaxis": "x9",
         "y": [
          2.090245094014165,
          1.7652040494240795,
          1.595252408933798
         ],
         "yaxis": "y9"
        },
        {
         "hovertemplate": "Phase=train<br>Metric=loss<br>Fold=4<br>Epoch=%{x}<br>Value=%{y}<extra></extra>",
         "legendgroup": "train",
         "line": {
          "color": "#1F77B4",
          "dash": "solid"
         },
         "marker": {
          "symbol": "circle"
         },
         "mode": "lines",
         "name": "Training",
         "orientation": "v",
         "showlegend": false,
         "type": "scatter",
         "x": [
          1,
          2,
          3,
          4,
          5
         ],
         "xaxis": "x10",
         "y": [
          2.083200272531605,
          1.756782130545556,
          1.5777994148754997,
          1.447633372588807,
          1.3009527222658708
         ],
         "yaxis": "y10"
        },
        {
         "hovertemplate": "Phase=train<br>Metric=acc<br>Fold=0<br>Epoch=%{x}<br>Value=%{y}<extra></extra>",
         "legendgroup": "train",
         "line": {
          "color": "#1F77B4",
          "dash": "solid"
         },
         "marker": {
          "symbol": "circle"
         },
         "mode": "lines",
         "name": "Training",
         "orientation": "v",
         "showlegend": false,
         "type": "scatter",
         "x": [
          1,
          2,
          3,
          4,
          5
         ],
         "xaxis": "x",
         "y": [
          0.3018022710699031,
          0.3922283571205334,
          0.4527554953641004,
          0.507448692572143,
          0.55141160537556
         ],
         "yaxis": "y"
        },
        {
         "hovertemplate": "Phase=train<br>Metric=acc<br>Fold=1<br>Epoch=%{x}<br>Value=%{y}<extra></extra>",
         "legendgroup": "train",
         "line": {
          "color": "#1F77B4",
          "dash": "solid"
         },
         "marker": {
          "symbol": "circle"
         },
         "mode": "lines",
         "name": "Training",
         "orientation": "v",
         "showlegend": false,
         "type": "scatter",
         "x": [
          1,
          2,
          3,
          4,
          5
         ],
         "xaxis": "x2",
         "y": [
          0.2869791666666667,
          0.3909375,
          0.4435416666666666,
          0.4960416666666666,
          0.5453125
         ],
         "yaxis": "y2"
        },
        {
         "hovertemplate": "Phase=train<br>Metric=acc<br>Fold=2<br>Epoch=%{x}<br>Value=%{y}<extra></extra>",
         "legendgroup": "train",
         "line": {
          "color": "#1F77B4",
          "dash": "solid"
         },
         "marker": {
          "symbol": "circle"
         },
         "mode": "lines",
         "name": "Training",
         "orientation": "v",
         "showlegend": false,
         "type": "scatter",
         "x": [
          1,
          2,
          3,
          4,
          5
         ],
         "xaxis": "x3",
         "y": [
          0.2854464006667361,
          0.3894155641212626,
          0.4581727263256589,
          0.502552349203042,
          0.5499531201166789
         ],
         "yaxis": "y3"
        },
        {
         "hovertemplate": "Phase=train<br>Metric=acc<br>Fold=3<br>Epoch=%{x}<br>Value=%{y}<extra></extra>",
         "legendgroup": "train",
         "line": {
          "color": "#1F77B4",
          "dash": "solid"
         },
         "marker": {
          "symbol": "circle"
         },
         "mode": "lines",
         "name": "Training",
         "orientation": "v",
         "showlegend": false,
         "type": "scatter",
         "x": [
          1,
          2,
          3
         ],
         "xaxis": "x4",
         "y": [
          0.2825453030618621,
          0.3965840449906269,
          0.454488648198292
         ],
         "yaxis": "y4"
        },
        {
         "hovertemplate": "Phase=train<br>Metric=acc<br>Fold=4<br>Epoch=%{x}<br>Value=%{y}<extra></extra>",
         "legendgroup": "train",
         "line": {
          "color": "#1F77B4",
          "dash": "solid"
         },
         "marker": {
          "symbol": "circle"
         },
         "mode": "lines",
         "name": "Training",
         "orientation": "v",
         "showlegend": false,
         "type": "scatter",
         "x": [
          1,
          2,
          3,
          4,
          5
         ],
         "xaxis": "x5",
         "y": [
          0.2805208333333333,
          0.4002083333333333,
          0.4580208333333333,
          0.5085416666666667,
          0.5579166666666666
         ],
         "yaxis": "y5"
        },
        {
         "hovertemplate": "Phase=val<br>Metric=loss<br>Fold=0<br>Epoch=%{x}<br>Value=%{y}<extra></extra>",
         "legendgroup": "val",
         "line": {
          "color": "#FF7F0E",
          "dash": "solid"
         },
         "marker": {
          "symbol": "circle"
         },
         "mode": "lines",
         "name": "Validation",
         "orientation": "v",
         "showlegend": true,
         "type": "scatter",
         "x": [
          1,
          2,
          3,
          4,
          5
         ],
         "xaxis": "x6",
         "y": [
          1.9101206025010664,
          1.7441881597042084,
          1.690768474811002,
          1.553588848364981,
          1.497329489180916
         ],
         "yaxis": "y6"
        },
        {
         "hovertemplate": "Phase=val<br>Metric=loss<br>Fold=1<br>Epoch=%{x}<br>Value=%{y}<extra></extra>",
         "legendgroup": "val",
         "line": {
          "color": "#FF7F0E",
          "dash": "solid"
         },
         "marker": {
          "symbol": "circle"
         },
         "mode": "lines",
         "name": "Validation",
         "orientation": "v",
         "showlegend": false,
         "type": "scatter",
         "x": [
          1,
          2,
          3,
          4,
          5
         ],
         "xaxis": "x7",
         "y": [
          1.973912817082907,
          1.7195356331373517,
          1.7364161932154705,
          1.4783916336141134,
          1.5839976150738566
         ],
         "yaxis": "y7"
        },
        {
         "hovertemplate": "Phase=val<br>Metric=loss<br>Fold=2<br>Epoch=%{x}<br>Value=%{y}<extra></extra>",
         "legendgroup": "val",
         "line": {
          "color": "#FF7F0E",
          "dash": "solid"
         },
         "marker": {
          "symbol": "circle"
         },
         "mode": "lines",
         "name": "Validation",
         "orientation": "v",
         "showlegend": false,
         "type": "scatter",
         "x": [
          1,
          2,
          3,
          4,
          5
         ],
         "xaxis": "x8",
         "y": [
          2.1047804426205787,
          1.730794142735632,
          1.573951136909033,
          1.712871529554066,
          1.5595114458548396
         ],
         "yaxis": "y8"
        },
        {
         "hovertemplate": "Phase=val<br>Metric=loss<br>Fold=3<br>Epoch=%{x}<br>Value=%{y}<extra></extra>",
         "legendgroup": "val",
         "line": {
          "color": "#FF7F0E",
          "dash": "solid"
         },
         "marker": {
          "symbol": "circle"
         },
         "mode": "lines",
         "name": "Validation",
         "orientation": "v",
         "showlegend": false,
         "type": "scatter",
         "x": [
          1,
          2,
          3
         ],
         "xaxis": "x9",
         "y": [
          1.957507647966084,
          1.7613257985366018,
          1.720013446713749
         ],
         "yaxis": "y9"
        },
        {
         "hovertemplate": "Phase=val<br>Metric=loss<br>Fold=4<br>Epoch=%{x}<br>Value=%{y}<extra></extra>",
         "legendgroup": "val",
         "line": {
          "color": "#FF7F0E",
          "dash": "solid"
         },
         "marker": {
          "symbol": "circle"
         },
         "mode": "lines",
         "name": "Validation",
         "orientation": "v",
         "showlegend": false,
         "type": "scatter",
         "x": [
          1,
          2,
          3,
          4,
          5
         ],
         "xaxis": "x10",
         "y": [
          1.8843663452487245,
          1.757122580158083,
          1.5903012258441824,
          1.600063558863966,
          1.4538564948659194
         ],
         "yaxis": "y10"
        },
        {
         "hovertemplate": "Phase=val<br>Metric=acc<br>Fold=0<br>Epoch=%{x}<br>Value=%{y}<extra></extra>",
         "legendgroup": "val",
         "line": {
          "color": "#FF7F0E",
          "dash": "solid"
         },
         "marker": {
          "symbol": "circle"
         },
         "mode": "lines",
         "name": "Validation",
         "orientation": "v",
         "showlegend": false,
         "type": "scatter",
         "x": [
          1,
          2,
          3,
          4,
          5
         ],
         "xaxis": "x",
         "y": [
          0.3361099541857559,
          0.3956684714702207,
          0.4406497292794669,
          0.493127863390254,
          0.5056226572261557
         ],
         "yaxis": "y"
        },
        {
         "hovertemplate": "Phase=val<br>Metric=acc<br>Fold=1<br>Epoch=%{x}<br>Value=%{y}<extra></extra>",
         "legendgroup": "val",
         "line": {
          "color": "#FF7F0E",
          "dash": "solid"
         },
         "marker": {
          "symbol": "circle"
         },
         "mode": "lines",
         "name": "Validation",
         "orientation": "v",
         "showlegend": false,
         "type": "scatter",
         "x": [
          1,
          2,
          3,
          4,
          5
         ],
         "xaxis": "x2",
         "y": [
          0.35625,
          0.425,
          0.4383333333333333,
          0.4979166666666667,
          0.4829166666666666
         ],
         "yaxis": "y2"
        },
        {
         "hovertemplate": "Phase=val<br>Metric=acc<br>Fold=2<br>Epoch=%{x}<br>Value=%{y}<extra></extra>",
         "legendgroup": "val",
         "line": {
          "color": "#FF7F0E",
          "dash": "solid"
         },
         "marker": {
          "symbol": "circle"
         },
         "mode": "lines",
         "name": "Validation",
         "orientation": "v",
         "showlegend": false,
         "type": "scatter",
         "x": [
          1,
          2,
          3,
          4,
          5
         ],
         "xaxis": "x3",
         "y": [
          0.2898792169929196,
          0.3994169096209912,
          0.4527280299875052,
          0.4277384423157018,
          0.4847980008329862
         ],
         "yaxis": "y3"
        },
        {
         "hovertemplate": "Phase=val<br>Metric=acc<br>Fold=3<br>Epoch=%{x}<br>Value=%{y}<extra></extra>",
         "legendgroup": "val",
         "line": {
          "color": "#FF7F0E",
          "dash": "solid"
         },
         "marker": {
          "symbol": "circle"
         },
         "mode": "lines",
         "name": "Validation",
         "orientation": "v",
         "showlegend": false,
         "type": "scatter",
         "x": [
          1,
          2,
          3
         ],
         "xaxis": "x4",
         "y": [
          0.3427856547122602,
          0.4220183486238532,
          0.4345287739783152
         ],
         "yaxis": "y4"
        },
        {
         "hovertemplate": "Phase=val<br>Metric=acc<br>Fold=4<br>Epoch=%{x}<br>Value=%{y}<extra></extra>",
         "legendgroup": "val",
         "line": {
          "color": "#FF7F0E",
          "dash": "solid"
         },
         "marker": {
          "symbol": "circle"
         },
         "mode": "lines",
         "name": "Validation",
         "orientation": "v",
         "showlegend": false,
         "type": "scatter",
         "x": [
          1,
          2,
          3,
          4,
          5
         ],
         "xaxis": "x5",
         "y": [
          0.3783333333333333,
          0.4029166666666666,
          0.4483333333333333,
          0.4545833333333333,
          0.5120833333333333
         ],
         "yaxis": "y5"
        }
       ],
       "layout": {
        "annotations": [
         {
          "showarrow": false,
          "text": "Fold=0",
          "x": 0.09000000000000001,
          "xanchor": "center",
          "xref": "paper",
          "y": 1,
          "yanchor": "bottom",
          "yref": "paper"
         },
         {
          "showarrow": false,
          "text": "Fold=1",
          "x": 0.29000000000000004,
          "xanchor": "center",
          "xref": "paper",
          "y": 1,
          "yanchor": "bottom",
          "yref": "paper"
         },
         {
          "showarrow": false,
          "text": "Fold=2",
          "x": 0.49000000000000005,
          "xanchor": "center",
          "xref": "paper",
          "y": 1,
          "yanchor": "bottom",
          "yref": "paper"
         },
         {
          "showarrow": false,
          "text": "Fold=3",
          "x": 0.6900000000000002,
          "xanchor": "center",
          "xref": "paper",
          "y": 1,
          "yanchor": "bottom",
          "yref": "paper"
         },
         {
          "showarrow": false,
          "text": "Fold=4",
          "x": 0.8900000000000001,
          "xanchor": "center",
          "xref": "paper",
          "y": 1,
          "yanchor": "bottom",
          "yref": "paper"
         },
         {
          "showarrow": false,
          "text": "Metric=acc",
          "textangle": 90,
          "x": 0.9800000000000001,
          "xanchor": "left",
          "xref": "paper",
          "y": 0.2425,
          "yanchor": "middle",
          "yref": "paper"
         },
         {
          "showarrow": false,
          "text": "Metric=loss",
          "textangle": 90,
          "x": 0.9800000000000001,
          "xanchor": "left",
          "xref": "paper",
          "y": 0.7575000000000001,
          "yanchor": "middle",
          "yref": "paper"
         },
         {
          "font": {
           "size": 18
          },
          "showarrow": false,
          "text": "Epoch",
          "x": 0.5,
          "xref": "paper",
          "y": -0.1,
          "yref": "paper"
         }
        ],
        "font": {
         "family": "Barlow",
         "size": 16
        },
        "height": 800,
        "legend": {
         "orientation": "h",
         "title": {
          "text": "Phase"
         },
         "tracegroupgap": 0,
         "x": 1,
         "xanchor": "right",
         "y": -0.2,
         "yanchor": "bottom"
        },
        "margin": {
         "t": 60
        },
        "template": {
         "data": {
          "pie": [
           {
            "automargin": true,
            "type": "pie"
           }
          ]
         },
         "layout": {
          "xaxis": {
           "showgrid": true,
           "title": {
            "standoff": 15
           }
          },
          "yaxis": {
           "showgrid": true,
           "title": {
            "standoff": 15
           }
          }
         }
        },
        "title": {
         "font": {
          "size": 30
         },
         "text": "Cross Validation Summary - Wide ResNet50",
         "x": 0.5
        },
        "width": 1200,
        "xaxis": {
         "anchor": "y",
         "domain": [
          0,
          0.18000000000000002
         ],
         "linecolor": "black",
         "mirror": true,
         "showline": true,
         "title": {
          "text": ""
         }
        },
        "xaxis10": {
         "anchor": "y10",
         "domain": [
          0.8,
          0.9800000000000001
         ],
         "linecolor": "black",
         "matches": "x",
         "mirror": true,
         "showline": true,
         "showticklabels": false,
         "title": {
          "text": ""
         }
        },
        "xaxis2": {
         "anchor": "y2",
         "domain": [
          0.2,
          0.38
         ],
         "linecolor": "black",
         "matches": "x",
         "mirror": true,
         "showline": true,
         "title": {
          "text": ""
         }
        },
        "xaxis3": {
         "anchor": "y3",
         "domain": [
          0.4,
          0.5800000000000001
         ],
         "linecolor": "black",
         "matches": "x",
         "mirror": true,
         "showline": true,
         "title": {
          "text": ""
         }
        },
        "xaxis4": {
         "anchor": "y4",
         "domain": [
          0.6000000000000001,
          0.7800000000000001
         ],
         "linecolor": "black",
         "matches": "x",
         "mirror": true,
         "showline": true,
         "title": {
          "text": ""
         }
        },
        "xaxis5": {
         "anchor": "y5",
         "domain": [
          0.8,
          0.9800000000000001
         ],
         "linecolor": "black",
         "matches": "x",
         "mirror": true,
         "showline": true,
         "title": {
          "text": ""
         }
        },
        "xaxis6": {
         "anchor": "y6",
         "domain": [
          0,
          0.18000000000000002
         ],
         "linecolor": "black",
         "matches": "x",
         "mirror": true,
         "showline": true,
         "showticklabels": false,
         "title": {
          "text": ""
         }
        },
        "xaxis7": {
         "anchor": "y7",
         "domain": [
          0.2,
          0.38
         ],
         "linecolor": "black",
         "matches": "x",
         "mirror": true,
         "showline": true,
         "showticklabels": false,
         "title": {
          "text": ""
         }
        },
        "xaxis8": {
         "anchor": "y8",
         "domain": [
          0.4,
          0.5800000000000001
         ],
         "linecolor": "black",
         "matches": "x",
         "mirror": true,
         "showline": true,
         "showticklabels": false,
         "title": {
          "text": ""
         }
        },
        "xaxis9": {
         "anchor": "y9",
         "domain": [
          0.6000000000000001,
          0.7800000000000001
         ],
         "linecolor": "black",
         "matches": "x",
         "mirror": true,
         "showline": true,
         "showticklabels": false,
         "title": {
          "text": ""
         }
        },
        "yaxis": {
         "anchor": "x",
         "domain": [
          0,
          0.485
         ],
         "linecolor": "black",
         "mirror": true,
         "range": [
          0,
          1
         ],
         "showline": true,
         "tickformat": ".1%",
         "title": {
          "text": ""
         }
        },
        "yaxis10": {
         "anchor": "x10",
         "domain": [
          0.515,
          1
         ],
         "linecolor": "black",
         "mirror": true,
         "range": [
          0,
          3
         ],
         "showline": true,
         "showticklabels": false,
         "title": {
          "text": ""
         }
        },
        "yaxis2": {
         "anchor": "x2",
         "domain": [
          0,
          0.485
         ],
         "linecolor": "black",
         "mirror": true,
         "range": [
          0,
          1
         ],
         "showline": true,
         "showticklabels": false,
         "tickformat": ".1%",
         "title": {
          "text": ""
         }
        },
        "yaxis3": {
         "anchor": "x3",
         "domain": [
          0,
          0.485
         ],
         "linecolor": "black",
         "mirror": true,
         "range": [
          0,
          1
         ],
         "showline": true,
         "showticklabels": false,
         "tickformat": ".1%",
         "title": {
          "text": ""
         }
        },
        "yaxis4": {
         "anchor": "x4",
         "domain": [
          0,
          0.485
         ],
         "linecolor": "black",
         "mirror": true,
         "range": [
          0,
          1
         ],
         "showline": true,
         "showticklabels": false,
         "tickformat": ".1%",
         "title": {
          "text": ""
         }
        },
        "yaxis5": {
         "anchor": "x5",
         "domain": [
          0,
          0.485
         ],
         "linecolor": "black",
         "mirror": true,
         "range": [
          0,
          1
         ],
         "showline": true,
         "showticklabels": false,
         "tickformat": ".1%",
         "title": {
          "text": ""
         }
        },
        "yaxis6": {
         "anchor": "x6",
         "domain": [
          0.515,
          1
         ],
         "linecolor": "black",
         "mirror": true,
         "range": [
          0,
          3
         ],
         "showline": true,
         "title": {
          "text": ""
         }
        },
        "yaxis7": {
         "anchor": "x7",
         "domain": [
          0.515,
          1
         ],
         "linecolor": "black",
         "mirror": true,
         "range": [
          0,
          3
         ],
         "showline": true,
         "showticklabels": false,
         "title": {
          "text": ""
         }
        },
        "yaxis8": {
         "anchor": "x8",
         "domain": [
          0.515,
          1
         ],
         "linecolor": "black",
         "mirror": true,
         "range": [
          0,
          3
         ],
         "showline": true,
         "showticklabels": false,
         "title": {
          "text": ""
         }
        },
        "yaxis9": {
         "anchor": "x9",
         "domain": [
          0.515,
          1
         ],
         "linecolor": "black",
         "mirror": true,
         "range": [
          0,
          3
         ],
         "showline": true,
         "showticklabels": false,
         "title": {
          "text": ""
         }
        }
       }
      }
     },
     "metadata": {},
     "output_type": "display_data"
    }
   ],
   "source": [
    "cv_summary_wresnet50 = px.line(cv_data_wresnet50, x='epoch', \n",
    "                        y='value', color='phase', \n",
    "                        facet_row='metric', \n",
    "                        facet_col='outer_fold',\n",
    "                        labels={'value': 'Value', 'epoch': 'Epoch', \n",
    "                                'phase': 'Phase', 'metric': 'Metric',\n",
    "                                'outer_fold': 'Fold'},\n",
    "                        template='gridon')\n",
    "# Renaming traces\n",
    "new_names = {'train': 'Training', 'val': 'Validation'}\n",
    "for trace in cv_summary_wresnet50.data:\n",
    "    trace.update(name=new_names[trace.name])\n",
    "cv_summary_wresnet50.for_each_xaxis(lambda axis: axis.update(showline=True, linecolor='black', mirror=True, title=''))\n",
    "cv_summary_wresnet50.add_annotation(\n",
    "    x=0.5,\n",
    "    y=-0.1,\n",
    "    xref='paper',\n",
    "    yref='paper',\n",
    "    text='Epoch',\n",
    "    showarrow=False,\n",
    "    font=dict(size=18)\n",
    ")\n",
    "cv_summary_wresnet50.for_each_yaxis(lambda axis: axis.update(showline=True, linecolor='black', mirror=True, title=''))\n",
    "cv_summary_wresnet50.for_each_yaxis(lambda axis: axis.update(range=[0.0, 3.0]), row=2)\n",
    "cv_summary_wresnet50.for_each_yaxis(lambda axis: axis.update(range=[0.0, 1.0], tickformat='.1%'), row=1)\n",
    "cv_summary_wresnet50.update_layout(\n",
    "    width=1200,\n",
    "    height=800,\n",
    "    legend=dict(\n",
    "        orientation='h',\n",
    "        yanchor='bottom',\n",
    "        y=-0.2,\n",
    "        xanchor='right',\n",
    "        x=1\n",
    "    ),\n",
    "    font=dict(\n",
    "        size=16,\n",
    "        family='Barlow'\n",
    "    ),\n",
    "    title=dict(\n",
    "        text='Cross Validation Summary - Wide ResNet50',\n",
    "        x=0.5,\n",
    "        font=dict(size=30)\n",
    "    )\n",
    ")\n",
    "cv_summary_wresnet50.update_yaxes(\n",
    "    matches=None\n",
    ")"
   ]
  },
  {
   "cell_type": "code",
   "execution_count": null,
   "metadata": {},
   "outputs": [],
   "source": [
    "cv_summary_wresnet50.write_image(os.path.join(out_folder, 'cv_wide_resnet50_summary.png'), scale=2)"
   ]
  },
  {
   "cell_type": "code",
   "execution_count": 5,
   "metadata": {},
   "outputs": [
    {
     "name": "stderr",
     "output_type": "stream",
     "text": [
      "/var/folders/yg/s0jhghm53wgccsw1j779s7jr0000gn/T/ipykernel_60506/3800122028.py:4: FutureWarning: The default value of observed=False is deprecated and will change to observed=True in a future version of pandas. Specify observed=False to silence this warning and retain the current behavior\n",
      "  cv_resnet50_fold_stats = cv_resnet50_fold_stats.pivot_table(\n"
     ]
    },
    {
     "data": {
      "text/html": [
       "<div>\n",
       "<style scoped>\n",
       "    .dataframe tbody tr th:only-of-type {\n",
       "        vertical-align: middle;\n",
       "    }\n",
       "\n",
       "    .dataframe tbody tr th {\n",
       "        vertical-align: top;\n",
       "    }\n",
       "\n",
       "    .dataframe thead th {\n",
       "        text-align: right;\n",
       "    }\n",
       "</style>\n",
       "<table border=\"1\" class=\"dataframe\">\n",
       "  <thead>\n",
       "    <tr style=\"text-align: right;\">\n",
       "      <th>metric</th>\n",
       "      <th>loss_train</th>\n",
       "      <th>loss_val</th>\n",
       "      <th>acc_val</th>\n",
       "      <th>acc_train</th>\n",
       "    </tr>\n",
       "    <tr>\n",
       "      <th>outer_fold</th>\n",
       "      <th></th>\n",
       "      <th></th>\n",
       "      <th></th>\n",
       "      <th></th>\n",
       "    </tr>\n",
       "  </thead>\n",
       "  <tbody>\n",
       "    <tr>\n",
       "      <th>4</th>\n",
       "      <td>0.288916</td>\n",
       "      <td>1.297179</td>\n",
       "      <td>0.607917</td>\n",
       "      <td>0.905521</td>\n",
       "    </tr>\n",
       "    <tr>\n",
       "      <th>1</th>\n",
       "      <td>0.305657</td>\n",
       "      <td>1.315037</td>\n",
       "      <td>0.607500</td>\n",
       "      <td>0.896563</td>\n",
       "    </tr>\n",
       "    <tr>\n",
       "      <th>3</th>\n",
       "      <td>0.315896</td>\n",
       "      <td>1.369601</td>\n",
       "      <td>0.591743</td>\n",
       "      <td>0.894605</td>\n",
       "    </tr>\n",
       "    <tr>\n",
       "      <th>0</th>\n",
       "      <td>0.279058</td>\n",
       "      <td>1.393503</td>\n",
       "      <td>0.591420</td>\n",
       "      <td>0.909157</td>\n",
       "    </tr>\n",
       "    <tr>\n",
       "      <th>2</th>\n",
       "      <td>0.283492</td>\n",
       "      <td>1.325508</td>\n",
       "      <td>0.573095</td>\n",
       "      <td>0.901969</td>\n",
       "    </tr>\n",
       "  </tbody>\n",
       "</table>\n",
       "</div>"
      ],
      "text/plain": [
       "metric      loss_train  loss_val   acc_val  acc_train\n",
       "outer_fold                                           \n",
       "4             0.288916  1.297179  0.607917   0.905521\n",
       "1             0.305657  1.315037  0.607500   0.896563\n",
       "3             0.315896  1.369601  0.591743   0.894605\n",
       "0             0.279058  1.393503  0.591420   0.909157\n",
       "2             0.283492  1.325508  0.573095   0.901969"
      ]
     },
     "execution_count": 5,
     "metadata": {},
     "output_type": "execute_result"
    }
   ],
   "source": [
    "cv_resnet50_fold_stats = cv_data_resnet50.copy()\n",
    "cv_resnet50_fold_stats['metric'] = cv_resnet50_fold_stats['metric'] + '_' + cv_resnet50_fold_stats['phase']\n",
    "cv_resnet50_fold_stats.drop(columns=['phase'], inplace=True)\n",
    "cv_resnet50_fold_stats = cv_resnet50_fold_stats.pivot_table(\n",
    "    index=['outer_fold', 'epoch'], columns='metric', values='value').reset_index()\n",
    "cv_resnet50_fold_stats = cv_resnet50_fold_stats.groupby('outer_fold').agg({'loss_train': 'min', 'loss_val': 'min', 'acc_val': 'max', 'acc_train': 'max'})\n",
    "\n",
    "cv_resnet50_fold_stats.sort_values(['acc_val', 'acc_train', 'loss_val', 'loss_train'], ascending=[False, False, True, True], inplace=True)\n",
    "cv_resnet50_fold_stats"
   ]
  },
  {
   "cell_type": "code",
   "execution_count": 6,
   "metadata": {},
   "outputs": [],
   "source": [
    "best_fold_resnet50 = cv_resnet50_fold_stats.index[0]"
   ]
  },
  {
   "cell_type": "code",
   "execution_count": 7,
   "metadata": {},
   "outputs": [],
   "source": [
    "r50_progress_file = os.path.join(cp_folder, 'CV_resnet50', \n",
    "                                 f'resnet50_cv_outer_{best_fold_resnet50}',\n",
    "                                 f'progress.csv')\n",
    "r50_progress_df = pd.read_csv(r50_progress_file)"
   ]
  },
  {
   "cell_type": "code",
   "execution_count": 8,
   "metadata": {},
   "outputs": [
    {
     "data": {
      "text/html": [
       "<div>\n",
       "<style scoped>\n",
       "    .dataframe tbody tr th:only-of-type {\n",
       "        vertical-align: middle;\n",
       "    }\n",
       "\n",
       "    .dataframe tbody tr th {\n",
       "        vertical-align: top;\n",
       "    }\n",
       "\n",
       "    .dataframe thead th {\n",
       "        text-align: right;\n",
       "    }\n",
       "</style>\n",
       "<table border=\"1\" class=\"dataframe\">\n",
       "  <thead>\n",
       "    <tr style=\"text-align: right;\">\n",
       "      <th></th>\n",
       "      <th>epoch</th>\n",
       "      <th>loss</th>\n",
       "      <th>accuracy</th>\n",
       "      <th>precision</th>\n",
       "      <th>recall</th>\n",
       "      <th>f1</th>\n",
       "    </tr>\n",
       "  </thead>\n",
       "  <tbody>\n",
       "    <tr>\n",
       "      <th>0</th>\n",
       "      <td>0</td>\n",
       "      <td>2.980350</td>\n",
       "      <td>0.320000</td>\n",
       "      <td>0.392020</td>\n",
       "      <td>0.320000</td>\n",
       "      <td>0.281626</td>\n",
       "    </tr>\n",
       "    <tr>\n",
       "      <th>1</th>\n",
       "      <td>1</td>\n",
       "      <td>2.154156</td>\n",
       "      <td>0.345000</td>\n",
       "      <td>0.369755</td>\n",
       "      <td>0.345000</td>\n",
       "      <td>0.320253</td>\n",
       "    </tr>\n",
       "    <tr>\n",
       "      <th>2</th>\n",
       "      <td>2</td>\n",
       "      <td>1.781502</td>\n",
       "      <td>0.414167</td>\n",
       "      <td>0.465407</td>\n",
       "      <td>0.414167</td>\n",
       "      <td>0.404549</td>\n",
       "    </tr>\n",
       "    <tr>\n",
       "      <th>3</th>\n",
       "      <td>3</td>\n",
       "      <td>2.118096</td>\n",
       "      <td>0.442083</td>\n",
       "      <td>0.472918</td>\n",
       "      <td>0.442083</td>\n",
       "      <td>0.429067</td>\n",
       "    </tr>\n",
       "    <tr>\n",
       "      <th>4</th>\n",
       "      <td>4</td>\n",
       "      <td>1.629323</td>\n",
       "      <td>0.447917</td>\n",
       "      <td>0.466423</td>\n",
       "      <td>0.447917</td>\n",
       "      <td>0.423258</td>\n",
       "    </tr>\n",
       "    <tr>\n",
       "      <th>5</th>\n",
       "      <td>5</td>\n",
       "      <td>1.489407</td>\n",
       "      <td>0.485833</td>\n",
       "      <td>0.515255</td>\n",
       "      <td>0.485833</td>\n",
       "      <td>0.465054</td>\n",
       "    </tr>\n",
       "    <tr>\n",
       "      <th>6</th>\n",
       "      <td>6</td>\n",
       "      <td>1.446275</td>\n",
       "      <td>0.517083</td>\n",
       "      <td>0.528313</td>\n",
       "      <td>0.517083</td>\n",
       "      <td>0.505882</td>\n",
       "    </tr>\n",
       "    <tr>\n",
       "      <th>7</th>\n",
       "      <td>7</td>\n",
       "      <td>1.408906</td>\n",
       "      <td>0.522083</td>\n",
       "      <td>0.543961</td>\n",
       "      <td>0.522083</td>\n",
       "      <td>0.514497</td>\n",
       "    </tr>\n",
       "    <tr>\n",
       "      <th>8</th>\n",
       "      <td>8</td>\n",
       "      <td>1.484970</td>\n",
       "      <td>0.515833</td>\n",
       "      <td>0.566193</td>\n",
       "      <td>0.515833</td>\n",
       "      <td>0.508115</td>\n",
       "    </tr>\n",
       "    <tr>\n",
       "      <th>9</th>\n",
       "      <td>9</td>\n",
       "      <td>1.554952</td>\n",
       "      <td>0.512083</td>\n",
       "      <td>0.548698</td>\n",
       "      <td>0.512083</td>\n",
       "      <td>0.497517</td>\n",
       "    </tr>\n",
       "    <tr>\n",
       "      <th>10</th>\n",
       "      <td>10</td>\n",
       "      <td>1.297179</td>\n",
       "      <td>0.569167</td>\n",
       "      <td>0.571031</td>\n",
       "      <td>0.569167</td>\n",
       "      <td>0.556164</td>\n",
       "    </tr>\n",
       "    <tr>\n",
       "      <th>11</th>\n",
       "      <td>11</td>\n",
       "      <td>1.397334</td>\n",
       "      <td>0.539167</td>\n",
       "      <td>0.580058</td>\n",
       "      <td>0.539167</td>\n",
       "      <td>0.524678</td>\n",
       "    </tr>\n",
       "    <tr>\n",
       "      <th>12</th>\n",
       "      <td>12</td>\n",
       "      <td>1.373668</td>\n",
       "      <td>0.570833</td>\n",
       "      <td>0.592811</td>\n",
       "      <td>0.570833</td>\n",
       "      <td>0.565993</td>\n",
       "    </tr>\n",
       "    <tr>\n",
       "      <th>13</th>\n",
       "      <td>13</td>\n",
       "      <td>1.363938</td>\n",
       "      <td>0.564167</td>\n",
       "      <td>0.594947</td>\n",
       "      <td>0.564167</td>\n",
       "      <td>0.558945</td>\n",
       "    </tr>\n",
       "    <tr>\n",
       "      <th>14</th>\n",
       "      <td>14</td>\n",
       "      <td>1.323665</td>\n",
       "      <td>0.582083</td>\n",
       "      <td>0.606520</td>\n",
       "      <td>0.582083</td>\n",
       "      <td>0.581029</td>\n",
       "    </tr>\n",
       "    <tr>\n",
       "      <th>15</th>\n",
       "      <td>15</td>\n",
       "      <td>1.463460</td>\n",
       "      <td>0.576250</td>\n",
       "      <td>0.605068</td>\n",
       "      <td>0.576250</td>\n",
       "      <td>0.576314</td>\n",
       "    </tr>\n",
       "    <tr>\n",
       "      <th>16</th>\n",
       "      <td>16</td>\n",
       "      <td>1.381666</td>\n",
       "      <td>0.600000</td>\n",
       "      <td>0.635825</td>\n",
       "      <td>0.600000</td>\n",
       "      <td>0.605842</td>\n",
       "    </tr>\n",
       "    <tr>\n",
       "      <th>17</th>\n",
       "      <td>17</td>\n",
       "      <td>1.558239</td>\n",
       "      <td>0.598333</td>\n",
       "      <td>0.607692</td>\n",
       "      <td>0.598333</td>\n",
       "      <td>0.594117</td>\n",
       "    </tr>\n",
       "    <tr>\n",
       "      <th>18</th>\n",
       "      <td>18</td>\n",
       "      <td>1.529727</td>\n",
       "      <td>0.595833</td>\n",
       "      <td>0.616935</td>\n",
       "      <td>0.595833</td>\n",
       "      <td>0.583492</td>\n",
       "    </tr>\n",
       "    <tr>\n",
       "      <th>19</th>\n",
       "      <td>19</td>\n",
       "      <td>1.654578</td>\n",
       "      <td>0.607917</td>\n",
       "      <td>0.628565</td>\n",
       "      <td>0.607917</td>\n",
       "      <td>0.604032</td>\n",
       "    </tr>\n",
       "  </tbody>\n",
       "</table>\n",
       "</div>"
      ],
      "text/plain": [
       "    epoch      loss  accuracy  precision    recall        f1\n",
       "0       0  2.980350  0.320000   0.392020  0.320000  0.281626\n",
       "1       1  2.154156  0.345000   0.369755  0.345000  0.320253\n",
       "2       2  1.781502  0.414167   0.465407  0.414167  0.404549\n",
       "3       3  2.118096  0.442083   0.472918  0.442083  0.429067\n",
       "4       4  1.629323  0.447917   0.466423  0.447917  0.423258\n",
       "5       5  1.489407  0.485833   0.515255  0.485833  0.465054\n",
       "6       6  1.446275  0.517083   0.528313  0.517083  0.505882\n",
       "7       7  1.408906  0.522083   0.543961  0.522083  0.514497\n",
       "8       8  1.484970  0.515833   0.566193  0.515833  0.508115\n",
       "9       9  1.554952  0.512083   0.548698  0.512083  0.497517\n",
       "10     10  1.297179  0.569167   0.571031  0.569167  0.556164\n",
       "11     11  1.397334  0.539167   0.580058  0.539167  0.524678\n",
       "12     12  1.373668  0.570833   0.592811  0.570833  0.565993\n",
       "13     13  1.363938  0.564167   0.594947  0.564167  0.558945\n",
       "14     14  1.323665  0.582083   0.606520  0.582083  0.581029\n",
       "15     15  1.463460  0.576250   0.605068  0.576250  0.576314\n",
       "16     16  1.381666  0.600000   0.635825  0.600000  0.605842\n",
       "17     17  1.558239  0.598333   0.607692  0.598333  0.594117\n",
       "18     18  1.529727  0.595833   0.616935  0.595833  0.583492\n",
       "19     19  1.654578  0.607917   0.628565  0.607917  0.604032"
      ]
     },
     "execution_count": 8,
     "metadata": {},
     "output_type": "execute_result"
    }
   ],
   "source": [
    "r50_progress_df_summary = r50_progress_df.copy()\n",
    "r50_progress_df_summary['epoch'] = r50_progress_df_summary.index\n",
    "r50_progress_df_summary = r50_progress_df_summary.loc[:, ['epoch', 'loss', 'accuracy', 'precision', 'recall', 'f1']]\n",
    "r50_progress_df_summary "
   ]
  },
  {
   "cell_type": "code",
   "execution_count": 40,
   "metadata": {},
   "outputs": [],
   "source": [
    "r50_progress_df_summary.to_excel(os.path.join(cp_folder, 'CV_resnet50', 'resnet50_best_fold_progress.xlsx'), index=False)"
   ]
  },
  {
   "cell_type": "code",
   "execution_count": 9,
   "metadata": {},
   "outputs": [
    {
     "name": "stderr",
     "output_type": "stream",
     "text": [
      "/var/folders/yg/s0jhghm53wgccsw1j779s7jr0000gn/T/ipykernel_60506/20580251.py:4: FutureWarning: The default value of observed=False is deprecated and will change to observed=True in a future version of pandas. Specify observed=False to silence this warning and retain the current behavior\n",
      "  cv_wresnet50_fold_stats = cv_wresnet50_fold_stats.pivot_table(\n"
     ]
    },
    {
     "data": {
      "text/html": [
       "<div>\n",
       "<style scoped>\n",
       "    .dataframe tbody tr th:only-of-type {\n",
       "        vertical-align: middle;\n",
       "    }\n",
       "\n",
       "    .dataframe tbody tr th {\n",
       "        vertical-align: top;\n",
       "    }\n",
       "\n",
       "    .dataframe thead th {\n",
       "        text-align: right;\n",
       "    }\n",
       "</style>\n",
       "<table border=\"1\" class=\"dataframe\">\n",
       "  <thead>\n",
       "    <tr style=\"text-align: right;\">\n",
       "      <th>metric</th>\n",
       "      <th>loss_train</th>\n",
       "      <th>loss_val</th>\n",
       "      <th>acc_val</th>\n",
       "      <th>acc_train</th>\n",
       "    </tr>\n",
       "    <tr>\n",
       "      <th>outer_fold</th>\n",
       "      <th></th>\n",
       "      <th></th>\n",
       "      <th></th>\n",
       "      <th></th>\n",
       "    </tr>\n",
       "  </thead>\n",
       "  <tbody>\n",
       "    <tr>\n",
       "      <th>4</th>\n",
       "      <td>1.300953</td>\n",
       "      <td>1.453856</td>\n",
       "      <td>0.512083</td>\n",
       "      <td>0.557917</td>\n",
       "    </tr>\n",
       "    <tr>\n",
       "      <th>0</th>\n",
       "      <td>1.306511</td>\n",
       "      <td>1.497329</td>\n",
       "      <td>0.505623</td>\n",
       "      <td>0.551412</td>\n",
       "    </tr>\n",
       "    <tr>\n",
       "      <th>1</th>\n",
       "      <td>1.320296</td>\n",
       "      <td>1.478392</td>\n",
       "      <td>0.497917</td>\n",
       "      <td>0.545312</td>\n",
       "    </tr>\n",
       "    <tr>\n",
       "      <th>2</th>\n",
       "      <td>1.320660</td>\n",
       "      <td>1.559511</td>\n",
       "      <td>0.484798</td>\n",
       "      <td>0.549953</td>\n",
       "    </tr>\n",
       "    <tr>\n",
       "      <th>3</th>\n",
       "      <td>1.595252</td>\n",
       "      <td>1.720013</td>\n",
       "      <td>0.434529</td>\n",
       "      <td>0.454489</td>\n",
       "    </tr>\n",
       "  </tbody>\n",
       "</table>\n",
       "</div>"
      ],
      "text/plain": [
       "metric      loss_train  loss_val   acc_val  acc_train\n",
       "outer_fold                                           \n",
       "4             1.300953  1.453856  0.512083   0.557917\n",
       "0             1.306511  1.497329  0.505623   0.551412\n",
       "1             1.320296  1.478392  0.497917   0.545312\n",
       "2             1.320660  1.559511  0.484798   0.549953\n",
       "3             1.595252  1.720013  0.434529   0.454489"
      ]
     },
     "execution_count": 9,
     "metadata": {},
     "output_type": "execute_result"
    }
   ],
   "source": [
    "cv_wresnet50_fold_stats = cv_data_wresnet50.copy()\n",
    "cv_wresnet50_fold_stats['metric'] = cv_wresnet50_fold_stats['metric'] + '_' + cv_wresnet50_fold_stats['phase']\n",
    "cv_wresnet50_fold_stats.drop(columns=['phase'], inplace=True)\n",
    "cv_wresnet50_fold_stats = cv_wresnet50_fold_stats.pivot_table(\n",
    "    index=['outer_fold', 'epoch'], columns='metric', values='value').reset_index()\n",
    "cv_wresnet50_fold_stats = cv_wresnet50_fold_stats.groupby('outer_fold').agg({'loss_train': 'min', 'loss_val': 'min', 'acc_val': 'max', 'acc_train': 'max'})\n",
    "\n",
    "cv_wresnet50_fold_stats.sort_values(['acc_val', 'acc_train', 'loss_val', 'loss_train'], ascending=[False, False, True, True], inplace=True)\n",
    "cv_wresnet50_fold_stats"
   ]
  },
  {
   "cell_type": "code",
   "execution_count": 10,
   "metadata": {},
   "outputs": [],
   "source": [
    "best_fold_wresnet50 = cv_wresnet50_fold_stats.index[0]"
   ]
  },
  {
   "cell_type": "code",
   "execution_count": 11,
   "metadata": {},
   "outputs": [],
   "source": [
    "wr50_progress_file = os.path.join(cp_folder, 'CV_wide_resnet50_2', \n",
    "                                 f'wide_resnet50_cv_outer_{best_fold_wresnet50}',\n",
    "                                 f'progress.csv')\n",
    "wr50_progress_df = pd.read_csv(wr50_progress_file)"
   ]
  },
  {
   "cell_type": "code",
   "execution_count": 13,
   "metadata": {},
   "outputs": [
    {
     "data": {
      "text/html": [
       "<div>\n",
       "<style scoped>\n",
       "    .dataframe tbody tr th:only-of-type {\n",
       "        vertical-align: middle;\n",
       "    }\n",
       "\n",
       "    .dataframe tbody tr th {\n",
       "        vertical-align: top;\n",
       "    }\n",
       "\n",
       "    .dataframe thead th {\n",
       "        text-align: right;\n",
       "    }\n",
       "</style>\n",
       "<table border=\"1\" class=\"dataframe\">\n",
       "  <thead>\n",
       "    <tr style=\"text-align: right;\">\n",
       "      <th></th>\n",
       "      <th>epoch</th>\n",
       "      <th>loss</th>\n",
       "      <th>accuracy</th>\n",
       "      <th>precision</th>\n",
       "      <th>recall</th>\n",
       "      <th>f1</th>\n",
       "    </tr>\n",
       "  </thead>\n",
       "  <tbody>\n",
       "    <tr>\n",
       "      <th>0</th>\n",
       "      <td>0</td>\n",
       "      <td>1.884366</td>\n",
       "      <td>0.378333</td>\n",
       "      <td>0.400030</td>\n",
       "      <td>0.378333</td>\n",
       "      <td>0.356462</td>\n",
       "    </tr>\n",
       "    <tr>\n",
       "      <th>1</th>\n",
       "      <td>1</td>\n",
       "      <td>1.757123</td>\n",
       "      <td>0.402917</td>\n",
       "      <td>0.434974</td>\n",
       "      <td>0.402917</td>\n",
       "      <td>0.393391</td>\n",
       "    </tr>\n",
       "    <tr>\n",
       "      <th>2</th>\n",
       "      <td>2</td>\n",
       "      <td>1.590301</td>\n",
       "      <td>0.448333</td>\n",
       "      <td>0.479743</td>\n",
       "      <td>0.448333</td>\n",
       "      <td>0.445852</td>\n",
       "    </tr>\n",
       "    <tr>\n",
       "      <th>3</th>\n",
       "      <td>3</td>\n",
       "      <td>1.600064</td>\n",
       "      <td>0.454583</td>\n",
       "      <td>0.515589</td>\n",
       "      <td>0.454583</td>\n",
       "      <td>0.431828</td>\n",
       "    </tr>\n",
       "    <tr>\n",
       "      <th>4</th>\n",
       "      <td>4</td>\n",
       "      <td>1.453856</td>\n",
       "      <td>0.512083</td>\n",
       "      <td>0.551468</td>\n",
       "      <td>0.512083</td>\n",
       "      <td>0.505173</td>\n",
       "    </tr>\n",
       "  </tbody>\n",
       "</table>\n",
       "</div>"
      ],
      "text/plain": [
       "   epoch      loss  accuracy  precision    recall        f1\n",
       "0      0  1.884366  0.378333   0.400030  0.378333  0.356462\n",
       "1      1  1.757123  0.402917   0.434974  0.402917  0.393391\n",
       "2      2  1.590301  0.448333   0.479743  0.448333  0.445852\n",
       "3      3  1.600064  0.454583   0.515589  0.454583  0.431828\n",
       "4      4  1.453856  0.512083   0.551468  0.512083  0.505173"
      ]
     },
     "execution_count": 13,
     "metadata": {},
     "output_type": "execute_result"
    }
   ],
   "source": [
    "wr50_progress_df_summary = wr50_progress_df.copy()\n",
    "wr50_progress_df_summary['epoch'] = wr50_progress_df_summary.index\n",
    "wr50_progress_df_summary = wr50_progress_df_summary.loc[:, ['epoch', 'loss', 'accuracy', 'precision', 'recall', 'f1']]\n",
    "wr50_progress_df_summary "
   ]
  },
  {
   "cell_type": "code",
   "execution_count": 46,
   "metadata": {},
   "outputs": [],
   "source": [
    "wr50_progress_df_summary.to_excel(os.path.join(cp_folder, 'CV_wide_resnet50_2', 'wide_resnet50_best_fold_progress.xlsx'), index=False)"
   ]
  },
  {
   "cell_type": "code",
   "execution_count": 14,
   "metadata": {},
   "outputs": [],
   "source": [
    "r50_best_results_file = os.path.join(cp_folder, 'CV_resnet50', \n",
    "                                 f'resnet50_cv_outer_{best_fold_resnet50}',\n",
    "                                 f'result.json')\n",
    "wr50_best_results_file = os.path.join(cp_folder, 'CV_wide_resnet50_2',\n",
    "                                        f'wide_resnet50_cv_outer_{best_fold_wresnet50}',\n",
    "                                        f'result.json')\n",
    "\n",
    "def read_json(file_path):\n",
    "    with open(file_path, 'r') as f:\n",
    "        data = f.read()\n",
    "        data = data.strip()\n",
    "        data = \"[\" + data + \"]\"\n",
    "        data = data.replace('}\\n{', '},\\n{')\n",
    "        data = json.loads(data)\n",
    "    return data\n",
    "\n",
    "r50_best_results = read_json(r50_best_results_file)\n",
    "wr50_best_results = read_json(wr50_best_results_file)"
   ]
  },
  {
   "cell_type": "code",
   "execution_count": 15,
   "metadata": {},
   "outputs": [],
   "source": [
    "r50_cm = r50_best_results[-1]['confusion_matrix']\n",
    "wr50_cm = wr50_best_results[-1]['confusion_matrix']"
   ]
  },
  {
   "cell_type": "code",
   "execution_count": 16,
   "metadata": {},
   "outputs": [],
   "source": [
    "class_mapping_file = os.path.join(out_folder, 'class_correspondances.json')\n",
    "with open(class_mapping_file, 'r') as f:\n",
    "    class_mapping = json.load(f)"
   ]
  },
  {
   "cell_type": "code",
   "execution_count": 23,
   "metadata": {},
   "outputs": [
    {
     "data": {
      "text/plain": [
       "Text(0.5, 1.0, 'ResNet50 | Confusion Matrix - Best Fold')"
      ]
     },
     "execution_count": 23,
     "metadata": {},
     "output_type": "execute_result"
    },
    {
     "data": {
      "image/png": "[encoded data removed]",
      "text/plain": [
       "<Figure size 900x900 with 1 Axes>"
      ]
     },
     "metadata": {},
     "output_type": "display_data"
    }
   ],
   "source": [
    "import matplotlib.pyplot as plt\n",
    "import numpy as np\n",
    "\n",
    "from sklearn.metrics import ConfusionMatrixDisplay\n",
    "\n",
    "fig, ax = plt.subplots(figsize=(9, 9))\n",
    "\n",
    "r50_cm_display = ConfusionMatrixDisplay.from_predictions(\n",
    "    r50_cm[-1], r50_cm[-2], cmap=plt.cm.Blues, \n",
    "    display_labels=[class_mapping[str(i)] for i in range(len(class_mapping))],\n",
    "    normalize='true', colorbar=False, xticks_rotation='vertical',\n",
    "    ax=ax, values_format='.1%'\n",
    ")\n",
    "ax.set_title('ResNet50 | Confusion Matrix - Best Fold')"
   ]
  },
  {
   "cell_type": "code",
   "execution_count": 24,
   "metadata": {},
   "outputs": [
    {
     "data": {
      "text/plain": [
       "Text(0.5, 1.0, 'Wide ResNet50 | Confusion Matrix - Best Fold')"
      ]
     },
     "execution_count": 24,
     "metadata": {},
     "output_type": "execute_result"
    },
    {
     "data": {
      "image/png": "[encoded data removed]",
      "text/plain": [
       "<Figure size 900x900 with 1 Axes>"
      ]
     },
     "metadata": {},
     "output_type": "display_data"
    }
   ],
   "source": [
    "fig, ax = plt.subplots(figsize=(9, 9))\n",
    "\n",
    "wr50_cm_display = ConfusionMatrixDisplay.from_predictions(\n",
    "    wr50_cm[-1], wr50_cm[-2], cmap=plt.cm.Blues, \n",
    "    display_labels=[class_mapping[str(i)] for i in range(len(class_mapping))],\n",
    "    normalize='true', colorbar=False, xticks_rotation='vertical',\n",
    "    ax=ax, values_format='.1%'\n",
    ")\n",
    "ax.set_title('Wide ResNet50 | Confusion Matrix - Best Fold')"
   ]
  },
  {
   "cell_type": "code",
   "execution_count": 31,
   "metadata": {},
   "outputs": [],
   "source": [
    "tl_data_resnet50 = pd.read_csv(os.path.join(cp_folder, 'TransferLearning_resnet50/progress.csv'))\n",
    "tl_data_wresnet50 = pd.read_csv(os.path.join(cp_folder, 'TransferLearning_wide_resnet50/progress.csv'))"
   ]
  },
  {
   "cell_type": "code",
   "execution_count": 27,
   "metadata": {},
   "outputs": [
    {
     "data": {
      "text/html": [
       "<div>\n",
       "<style scoped>\n",
       "    .dataframe tbody tr th:only-of-type {\n",
       "        vertical-align: middle;\n",
       "    }\n",
       "\n",
       "    .dataframe tbody tr th {\n",
       "        vertical-align: top;\n",
       "    }\n",
       "\n",
       "    .dataframe thead th {\n",
       "        text-align: right;\n",
       "    }\n",
       "</style>\n",
       "<table border=\"1\" class=\"dataframe\">\n",
       "  <thead>\n",
       "    <tr style=\"text-align: right;\">\n",
       "      <th></th>\n",
       "      <th>loss</th>\n",
       "      <th>accuracy</th>\n",
       "      <th>confusion_matrix</th>\n",
       "      <th>precision</th>\n",
       "      <th>recall</th>\n",
       "      <th>f1</th>\n",
       "      <th>timestamp</th>\n",
       "      <th>checkpoint_dir_name</th>\n",
       "      <th>should_checkpoint</th>\n",
       "      <th>done</th>\n",
       "      <th>...</th>\n",
       "      <th>pid</th>\n",
       "      <th>hostname</th>\n",
       "      <th>node_ip</th>\n",
       "      <th>time_since_restore</th>\n",
       "      <th>iterations_since_restore</th>\n",
       "      <th>summary/epoch/0</th>\n",
       "      <th>summary/train_loss/0</th>\n",
       "      <th>summary/train_acc/0</th>\n",
       "      <th>summary/val_loss/0</th>\n",
       "      <th>summary/val_acc/0</th>\n",
       "    </tr>\n",
       "  </thead>\n",
       "  <tbody>\n",
       "    <tr>\n",
       "      <th>0</th>\n",
       "      <td>0.802462</td>\n",
       "      <td>0.793750</td>\n",
       "      <td>(array([[162,   2,   7,  10,   7,   6,   5,   ...</td>\n",
       "      <td>0.796313</td>\n",
       "      <td>0.793750</td>\n",
       "      <td>0.792774</td>\n",
       "      <td>1713225018</td>\n",
       "      <td>checkpoint_000000</td>\n",
       "      <td>True</td>\n",
       "      <td>False</td>\n",
       "      <td>...</td>\n",
       "      <td>1839</td>\n",
       "      <td>f8e00118995a</td>\n",
       "      <td>172.28.0.12</td>\n",
       "      <td>9253.317525</td>\n",
       "      <td>1</td>\n",
       "      <td>1.0</td>\n",
       "      <td>1.208196</td>\n",
       "      <td>0.699688</td>\n",
       "      <td>0.802462</td>\n",
       "      <td>0.79375</td>\n",
       "    </tr>\n",
       "    <tr>\n",
       "      <th>1</th>\n",
       "      <td>0.623118</td>\n",
       "      <td>0.822500</td>\n",
       "      <td>(array([[165,   3,   6,   9,   9,   4,   3,   ...</td>\n",
       "      <td>0.823935</td>\n",
       "      <td>0.822500</td>\n",
       "      <td>0.822508</td>\n",
       "      <td>1713229010</td>\n",
       "      <td>checkpoint_000001</td>\n",
       "      <td>True</td>\n",
       "      <td>False</td>\n",
       "      <td>...</td>\n",
       "      <td>1839</td>\n",
       "      <td>f8e00118995a</td>\n",
       "      <td>172.28.0.12</td>\n",
       "      <td>13245.556736</td>\n",
       "      <td>2</td>\n",
       "      <td>1.0</td>\n",
       "      <td>1.208196</td>\n",
       "      <td>0.699688</td>\n",
       "      <td>0.802462</td>\n",
       "      <td>0.79375</td>\n",
       "    </tr>\n",
       "    <tr>\n",
       "      <th>2</th>\n",
       "      <td>0.576804</td>\n",
       "      <td>0.834583</td>\n",
       "      <td>(array([[175,   3,   2,   8,   2,   4,   4,   ...</td>\n",
       "      <td>0.836871</td>\n",
       "      <td>0.834583</td>\n",
       "      <td>0.834548</td>\n",
       "      <td>1713233014</td>\n",
       "      <td>checkpoint_000002</td>\n",
       "      <td>True</td>\n",
       "      <td>False</td>\n",
       "      <td>...</td>\n",
       "      <td>1839</td>\n",
       "      <td>f8e00118995a</td>\n",
       "      <td>172.28.0.12</td>\n",
       "      <td>17248.703231</td>\n",
       "      <td>3</td>\n",
       "      <td>1.0</td>\n",
       "      <td>1.208196</td>\n",
       "      <td>0.699688</td>\n",
       "      <td>0.802462</td>\n",
       "      <td>0.79375</td>\n",
       "    </tr>\n",
       "    <tr>\n",
       "      <th>3</th>\n",
       "      <td>0.536988</td>\n",
       "      <td>0.838750</td>\n",
       "      <td>(array([[180,   3,   2,   6,   2,   5,   4,   ...</td>\n",
       "      <td>0.840044</td>\n",
       "      <td>0.838750</td>\n",
       "      <td>0.838730</td>\n",
       "      <td>1713237028</td>\n",
       "      <td>checkpoint_000003</td>\n",
       "      <td>True</td>\n",
       "      <td>False</td>\n",
       "      <td>...</td>\n",
       "      <td>1839</td>\n",
       "      <td>f8e00118995a</td>\n",
       "      <td>172.28.0.12</td>\n",
       "      <td>21262.007893</td>\n",
       "      <td>4</td>\n",
       "      <td>1.0</td>\n",
       "      <td>1.208196</td>\n",
       "      <td>0.699688</td>\n",
       "      <td>0.802462</td>\n",
       "      <td>0.79375</td>\n",
       "    </tr>\n",
       "    <tr>\n",
       "      <th>4</th>\n",
       "      <td>0.499777</td>\n",
       "      <td>0.845833</td>\n",
       "      <td>(array([[174,   2,   3,   8,   4,   4,   4,   ...</td>\n",
       "      <td>0.846287</td>\n",
       "      <td>0.845833</td>\n",
       "      <td>0.845753</td>\n",
       "      <td>1713241069</td>\n",
       "      <td>checkpoint_000004</td>\n",
       "      <td>True</td>\n",
       "      <td>False</td>\n",
       "      <td>...</td>\n",
       "      <td>1839</td>\n",
       "      <td>f8e00118995a</td>\n",
       "      <td>172.28.0.12</td>\n",
       "      <td>25303.607063</td>\n",
       "      <td>5</td>\n",
       "      <td>1.0</td>\n",
       "      <td>1.208196</td>\n",
       "      <td>0.699688</td>\n",
       "      <td>0.802462</td>\n",
       "      <td>0.79375</td>\n",
       "    </tr>\n",
       "  </tbody>\n",
       "</table>\n",
       "<p>5 rows × 25 columns</p>\n",
       "</div>"
      ],
      "text/plain": [
       "       loss  accuracy                                   confusion_matrix  \\\n",
       "0  0.802462  0.793750  (array([[162,   2,   7,  10,   7,   6,   5,   ...   \n",
       "1  0.623118  0.822500  (array([[165,   3,   6,   9,   9,   4,   3,   ...   \n",
       "2  0.576804  0.834583  (array([[175,   3,   2,   8,   2,   4,   4,   ...   \n",
       "3  0.536988  0.838750  (array([[180,   3,   2,   6,   2,   5,   4,   ...   \n",
       "4  0.499777  0.845833  (array([[174,   2,   3,   8,   4,   4,   4,   ...   \n",
       "\n",
       "   precision    recall        f1   timestamp checkpoint_dir_name  \\\n",
       "0   0.796313  0.793750  0.792774  1713225018   checkpoint_000000   \n",
       "1   0.823935  0.822500  0.822508  1713229010   checkpoint_000001   \n",
       "2   0.836871  0.834583  0.834548  1713233014   checkpoint_000002   \n",
       "3   0.840044  0.838750  0.838730  1713237028   checkpoint_000003   \n",
       "4   0.846287  0.845833  0.845753  1713241069   checkpoint_000004   \n",
       "\n",
       "   should_checkpoint   done  ...   pid      hostname      node_ip  \\\n",
       "0               True  False  ...  1839  f8e00118995a  172.28.0.12   \n",
       "1               True  False  ...  1839  f8e00118995a  172.28.0.12   \n",
       "2               True  False  ...  1839  f8e00118995a  172.28.0.12   \n",
       "3               True  False  ...  1839  f8e00118995a  172.28.0.12   \n",
       "4               True  False  ...  1839  f8e00118995a  172.28.0.12   \n",
       "\n",
       "   time_since_restore  iterations_since_restore  summary/epoch/0  \\\n",
       "0         9253.317525                         1              1.0   \n",
       "1        13245.556736                         2              1.0   \n",
       "2        17248.703231                         3              1.0   \n",
       "3        21262.007893                         4              1.0   \n",
       "4        25303.607063                         5              1.0   \n",
       "\n",
       "  summary/train_loss/0 summary/train_acc/0  summary/val_loss/0  \\\n",
       "0             1.208196            0.699688            0.802462   \n",
       "1             1.208196            0.699688            0.802462   \n",
       "2             1.208196            0.699688            0.802462   \n",
       "3             1.208196            0.699688            0.802462   \n",
       "4             1.208196            0.699688            0.802462   \n",
       "\n",
       "   summary/val_acc/0  \n",
       "0            0.79375  \n",
       "1            0.79375  \n",
       "2            0.79375  \n",
       "3            0.79375  \n",
       "4            0.79375  \n",
       "\n",
       "[5 rows x 25 columns]"
      ]
     },
     "execution_count": 27,
     "metadata": {},
     "output_type": "execute_result"
    }
   ],
   "source": [
    "tl_data_resnet50"
   ]
  },
  {
   "cell_type": "code",
   "execution_count": 32,
   "metadata": {},
   "outputs": [],
   "source": [
    "from numpy import array\n",
    "\n",
    "tl_data_resnet50['confusion_matrix'] = tl_data_resnet50['confusion_matrix'].apply(lambda x: eval(x))\n",
    "tl_data_wresnet50['confusion_matrix'] = tl_data_wresnet50['confusion_matrix'].apply(lambda x: eval(x))"
   ]
  },
  {
   "cell_type": "code",
   "execution_count": 34,
   "metadata": {},
   "outputs": [],
   "source": [
    "cm_tl_resnet50 = tl_data_resnet50.iloc[tl_data_resnet50['accuracy'].idxmax()]['confusion_matrix']\n",
    "cm_tl_wresnet50 = tl_data_wresnet50.iloc[tl_data_wresnet50['accuracy'].idxmax()]['confusion_matrix']"
   ]
  },
  {
   "cell_type": "code",
   "execution_count": 35,
   "metadata": {},
   "outputs": [
    {
     "data": {
      "text/plain": [
       "Text(0.5, 1.0, 'Pre-trained ResNet50 | Confusion Matrix')"
      ]
     },
     "execution_count": 35,
     "metadata": {},
     "output_type": "execute_result"
    },
    {
     "data": {
      "image/png": "[encoded data removed]",
      "text/plain": [
       "<Figure size 900x900 with 1 Axes>"
      ]
     },
     "metadata": {},
     "output_type": "display_data"
    }
   ],
   "source": [
    "fig, ax = plt.subplots(figsize=(9, 9))\n",
    "\n",
    "r50_cm_tl_display = ConfusionMatrixDisplay.from_predictions(\n",
    "    cm_tl_resnet50[-1], cm_tl_resnet50[-2], cmap=plt.cm.Blues, \n",
    "    display_labels=[class_mapping[str(i)] for i in range(len(class_mapping))],\n",
    "    normalize='true', colorbar=False, xticks_rotation='vertical',\n",
    "    ax=ax, values_format='.1%'\n",
    ")\n",
    "ax.set_title('Pre-trained ResNet50 | Confusion Matrix')"
   ]
  },
  {
   "cell_type": "code",
   "execution_count": 36,
   "metadata": {},
   "outputs": [
    {
     "data": {
      "text/plain": [
       "Text(0.5, 1.0, 'Pre-trained Wide ResNet50 | Confusion Matrix')"
      ]
     },
     "execution_count": 36,
     "metadata": {},
     "output_type": "execute_result"
    },
    {
     "data": {
      "image/png": "[encoded data removed]",
      "text/plain": [
       "<Figure size 900x900 with 1 Axes>"
      ]
     },
     "metadata": {},
     "output_type": "display_data"
    }
   ],
   "source": [
    "fig, ax = plt.subplots(figsize=(9, 9))\n",
    "\n",
    "wr50_cm_tl_display = ConfusionMatrixDisplay.from_predictions(\n",
    "    cm_tl_wresnet50[-1], cm_tl_wresnet50[-2], cmap=plt.cm.Blues, \n",
    "    display_labels=[class_mapping[str(i)] for i in range(len(class_mapping))],\n",
    "    normalize='true', colorbar=False, xticks_rotation='vertical',\n",
    "    ax=ax, values_format='.1%'\n",
    ")\n",
    "ax.set_title('Pre-trained Wide ResNet50 | Confusion Matrix')"
   ]
  }
 ],
 "metadata": {
  "kernelspec": {
   "display_name": "Python 3",
   "language": "python",
   "name": "python3"
  },
  "language_info": {
   "codemirror_mode": {
    "name": "ipython",
    "version": 3
   },
   "file_extension": ".py",
   "mimetype": "text/x-python",
   "name": "python",
   "nbconvert_exporter": "python",
   "pygments_lexer": "ipython3",
   "version": "3.10.13"
  }
 },
 "nbformat": 4,
 "nbformat_minor": 2
}
